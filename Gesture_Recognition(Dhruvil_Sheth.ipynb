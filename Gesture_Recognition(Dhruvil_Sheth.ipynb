{
  "cells": [
    {
      "cell_type": "markdown",
      "metadata": {
        "id": "tNEk0dXSddoA"
      },
      "source": [
        "# Gesture Recognition\n",
        "In this group project, you are going to build a 3D Conv model that will be able to predict the 5 gestures correctly. Please import the following libraries to get started."
      ]
    },
    {
      "cell_type": "code",
      "execution_count": 3,
      "metadata": {
        "id": "DCk9V1ntxOGF"
      },
      "outputs": [],
      "source": [
        "## important libary import\n",
        "import numpy as np\n",
        "import pandas as pd\n",
        "import os\n",
        "from skimage import io\n",
        "import datetime\n",
        "import os\n",
        "import cv2\n",
        "import matplotlib.pyplot as plt\n",
        "%matplotlib inline\n",
        "import random as rn\n",
        "from keras import backend as K\n",
        "import tensorflow as tf"
      ]
    },
    {
      "cell_type": "code",
      "execution_count": 4,
      "metadata": {
        "colab": {
          "base_uri": "https://localhost:8080/"
        },
        "id": "eQJPxdCoZl-n",
        "outputId": "9e1246e4-2544-45ed-e322-b010813507b5"
      },
      "outputs": [
        {
          "output_type": "stream",
          "name": "stdout",
          "text": [
            "Mounted at /content/drive\n"
          ]
        }
      ],
      "source": [
        "#Access the google drive\n",
        "from google.colab import drive\n",
        "drive.mount('/content/drive')"
      ]
    },
    {
      "cell_type": "code",
      "execution_count": 5,
      "metadata": {
        "id": "DWHxfXUcxOGL"
      },
      "outputs": [],
      "source": [
        "#Here we set random seed to 30\n",
        "np.random.seed(30)\n",
        "rn.seed(30)\n",
        "# tf.set_random_seed(30) Here we commented this line because of module 'tensorflow' has no attribute 'set_random_seed' that's why we need to use random.set_seed\n",
        "tf.random.set_seed(30)"
      ]
    },
    {
      "cell_type": "markdown",
      "metadata": {
        "id": "qLhXXEK1xOGM"
      },
      "source": [
        "In this block, you read the folder names for training and validation. You also set the batch_size here. Note that you set the batch size in such a way that you are able to use the GPU in full capacity. You keep increasing the batch size until the machine throws an error."
      ]
    },
    {
      "cell_type": "markdown",
      "metadata": {
        "id": "pH4WHz1Tav0m"
      },
      "source": [
        "**Here we connect with drive to access our train and val csv data**"
      ]
    },
    {
      "cell_type": "code",
      "execution_count": 6,
      "metadata": {
        "id": "aQAV_wxMxOGN"
      },
      "outputs": [],
      "source": [
        "# Train.csv data path\n",
        "train_doc = np.random.permutation(open('/content/drive/MyDrive/Project_data/Project_data/train.csv').readlines())\n",
        "#Val.csv data path\n",
        "val_doc = np.random.permutation(open('/content/drive/MyDrive/Project_data/Project_data/val.csv').readlines())\n",
        "#Setting batch size to 10\n",
        "batch_size = 10 #experiment with the batch size"
      ]
    },
    {
      "cell_type": "code",
      "execution_count": 7,
      "metadata": {
        "id": "WUOcd84zxOGR"
      },
      "outputs": [],
      "source": [
        "#Here we resize the image with size 64\n",
        "rows = 64\n",
        "cols = 64"
      ]
    },
    {
      "cell_type": "code",
      "execution_count": 8,
      "metadata": {
        "colab": {
          "base_uri": "https://localhost:8080/",
          "height": 206
        },
        "id": "gJ6h5tUXxOGR",
        "outputId": "fca5f737-7120-4d1b-e203-635553cd8e8f",
        "scrolled": true
      },
      "outputs": [
        {
          "output_type": "execute_result",
          "data": {
            "text/plain": [
              "                                  Video_Name      Action_name Action_Class\n",
              "0  WIN_20180926_16_54_08_Pro_Right_Swipe_new  Right_Swipe_new            1\n",
              "1  WIN_20180925_18_02_58_Pro_Thumbs_Down_new  Thumbs_Down_new            3\n",
              "2   WIN_20180925_17_33_08_Pro_Left_Swipe_new   Left_Swipe_new            0\n",
              "3    WIN_20180925_17_51_17_Pro_Thumbs_Up_new    Thumbs_Up_new            4\n",
              "4   WIN_20180926_17_17_35_Pro_Left_Swipe_new   Left_Swipe_new            0"
            ],
            "text/html": [
              "\n",
              "  <div id=\"df-9902686e-f5b5-4984-88cf-95def1bcccf0\">\n",
              "    <div class=\"colab-df-container\">\n",
              "      <div>\n",
              "<style scoped>\n",
              "    .dataframe tbody tr th:only-of-type {\n",
              "        vertical-align: middle;\n",
              "    }\n",
              "\n",
              "    .dataframe tbody tr th {\n",
              "        vertical-align: top;\n",
              "    }\n",
              "\n",
              "    .dataframe thead th {\n",
              "        text-align: right;\n",
              "    }\n",
              "</style>\n",
              "<table border=\"1\" class=\"dataframe\">\n",
              "  <thead>\n",
              "    <tr style=\"text-align: right;\">\n",
              "      <th></th>\n",
              "      <th>Video_Name</th>\n",
              "      <th>Action_name</th>\n",
              "      <th>Action_Class</th>\n",
              "    </tr>\n",
              "  </thead>\n",
              "  <tbody>\n",
              "    <tr>\n",
              "      <th>0</th>\n",
              "      <td>WIN_20180926_16_54_08_Pro_Right_Swipe_new</td>\n",
              "      <td>Right_Swipe_new</td>\n",
              "      <td>1</td>\n",
              "    </tr>\n",
              "    <tr>\n",
              "      <th>1</th>\n",
              "      <td>WIN_20180925_18_02_58_Pro_Thumbs_Down_new</td>\n",
              "      <td>Thumbs_Down_new</td>\n",
              "      <td>3</td>\n",
              "    </tr>\n",
              "    <tr>\n",
              "      <th>2</th>\n",
              "      <td>WIN_20180925_17_33_08_Pro_Left_Swipe_new</td>\n",
              "      <td>Left_Swipe_new</td>\n",
              "      <td>0</td>\n",
              "    </tr>\n",
              "    <tr>\n",
              "      <th>3</th>\n",
              "      <td>WIN_20180925_17_51_17_Pro_Thumbs_Up_new</td>\n",
              "      <td>Thumbs_Up_new</td>\n",
              "      <td>4</td>\n",
              "    </tr>\n",
              "    <tr>\n",
              "      <th>4</th>\n",
              "      <td>WIN_20180926_17_17_35_Pro_Left_Swipe_new</td>\n",
              "      <td>Left_Swipe_new</td>\n",
              "      <td>0</td>\n",
              "    </tr>\n",
              "  </tbody>\n",
              "</table>\n",
              "</div>\n",
              "      <button class=\"colab-df-convert\" onclick=\"convertToInteractive('df-9902686e-f5b5-4984-88cf-95def1bcccf0')\"\n",
              "              title=\"Convert this dataframe to an interactive table.\"\n",
              "              style=\"display:none;\">\n",
              "        \n",
              "  <svg xmlns=\"http://www.w3.org/2000/svg\" height=\"24px\"viewBox=\"0 0 24 24\"\n",
              "       width=\"24px\">\n",
              "    <path d=\"M0 0h24v24H0V0z\" fill=\"none\"/>\n",
              "    <path d=\"M18.56 5.44l.94 2.06.94-2.06 2.06-.94-2.06-.94-.94-2.06-.94 2.06-2.06.94zm-11 1L8.5 8.5l.94-2.06 2.06-.94-2.06-.94L8.5 2.5l-.94 2.06-2.06.94zm10 10l.94 2.06.94-2.06 2.06-.94-2.06-.94-.94-2.06-.94 2.06-2.06.94z\"/><path d=\"M17.41 7.96l-1.37-1.37c-.4-.4-.92-.59-1.43-.59-.52 0-1.04.2-1.43.59L10.3 9.45l-7.72 7.72c-.78.78-.78 2.05 0 2.83L4 21.41c.39.39.9.59 1.41.59.51 0 1.02-.2 1.41-.59l7.78-7.78 2.81-2.81c.8-.78.8-2.07 0-2.86zM5.41 20L4 18.59l7.72-7.72 1.47 1.35L5.41 20z\"/>\n",
              "  </svg>\n",
              "      </button>\n",
              "      \n",
              "  <style>\n",
              "    .colab-df-container {\n",
              "      display:flex;\n",
              "      flex-wrap:wrap;\n",
              "      gap: 12px;\n",
              "    }\n",
              "\n",
              "    .colab-df-convert {\n",
              "      background-color: #E8F0FE;\n",
              "      border: none;\n",
              "      border-radius: 50%;\n",
              "      cursor: pointer;\n",
              "      display: none;\n",
              "      fill: #1967D2;\n",
              "      height: 32px;\n",
              "      padding: 0 0 0 0;\n",
              "      width: 32px;\n",
              "    }\n",
              "\n",
              "    .colab-df-convert:hover {\n",
              "      background-color: #E2EBFA;\n",
              "      box-shadow: 0px 1px 2px rgba(60, 64, 67, 0.3), 0px 1px 3px 1px rgba(60, 64, 67, 0.15);\n",
              "      fill: #174EA6;\n",
              "    }\n",
              "\n",
              "    [theme=dark] .colab-df-convert {\n",
              "      background-color: #3B4455;\n",
              "      fill: #D2E3FC;\n",
              "    }\n",
              "\n",
              "    [theme=dark] .colab-df-convert:hover {\n",
              "      background-color: #434B5C;\n",
              "      box-shadow: 0px 1px 3px 1px rgba(0, 0, 0, 0.15);\n",
              "      filter: drop-shadow(0px 1px 2px rgba(0, 0, 0, 0.3));\n",
              "      fill: #FFFFFF;\n",
              "    }\n",
              "  </style>\n",
              "\n",
              "      <script>\n",
              "        const buttonEl =\n",
              "          document.querySelector('#df-9902686e-f5b5-4984-88cf-95def1bcccf0 button.colab-df-convert');\n",
              "        buttonEl.style.display =\n",
              "          google.colab.kernel.accessAllowed ? 'block' : 'none';\n",
              "\n",
              "        async function convertToInteractive(key) {\n",
              "          const element = document.querySelector('#df-9902686e-f5b5-4984-88cf-95def1bcccf0');\n",
              "          const dataTable =\n",
              "            await google.colab.kernel.invokeFunction('convertToInteractive',\n",
              "                                                     [key], {});\n",
              "          if (!dataTable) return;\n",
              "\n",
              "          const docLinkHtml = 'Like what you see? Visit the ' +\n",
              "            '<a target=\"_blank\" href=https://colab.research.google.com/notebooks/data_table.ipynb>data table notebook</a>'\n",
              "            + ' to learn more about interactive tables.';\n",
              "          element.innerHTML = '';\n",
              "          dataTable['output_type'] = 'display_data';\n",
              "          await google.colab.output.renderOutput(dataTable, element);\n",
              "          const docLink = document.createElement('div');\n",
              "          docLink.innerHTML = docLinkHtml;\n",
              "          element.appendChild(docLink);\n",
              "        }\n",
              "      </script>\n",
              "    </div>\n",
              "  </div>\n",
              "  "
            ]
          },
          "metadata": {},
          "execution_count": 8
        }
      ],
      "source": [
        "#lets understand the current distribution of class by visullaization\n",
        "train_df = pd.DataFrame()\n",
        "frame_name = []\n",
        "frame_target = []\n",
        "frame_class = []\n",
        "\n",
        "\n",
        "for train_data in train_doc:\n",
        "    data = train_data.split(\";\")\n",
        "    frame_name.append(data[0])\n",
        "    frame_target.append(data[1])\n",
        "    frame_class.append(data[2].strip())\n",
        "   \n",
        "train_df[\"Video_Name\"] = frame_name\n",
        "train_df[\"Action_name\"] = frame_target\n",
        "train_df[\"Action_Class\"] = frame_class\n",
        "\n",
        "train_df.head()"
      ]
    },
    {
      "cell_type": "code",
      "execution_count": 9,
      "metadata": {
        "colab": {
          "base_uri": "https://localhost:8080/",
          "height": 347
        },
        "id": "5Ctflp_jxOGS",
        "outputId": "42b1e6df-32ad-44e2-9af1-48d9cdb28d9a",
        "scrolled": true
      },
      "outputs": [
        {
          "output_type": "display_data",
          "data": {
            "text/plain": [
              "<Figure size 1296x360 with 1 Axes>"
            ],
            "image/png": "[encoded data removed]"
          },
          "metadata": {
            "needs_background": "light"
          }
        }
      ],
      "source": [
        "# Here we check the distribustion of class\n",
        "\n",
        "train_df.Action_Class.value_counts()\n",
        "\n",
        "size = [train_df.Action_Class.value_counts()[0],train_df.Action_Class.value_counts()[1],\n",
        "        train_df.Action_Class.value_counts()[2],train_df.Action_Class.value_counts()[3],\n",
        "        train_df.Action_Class.value_counts()[4]]\n",
        "lables = ['3','1','0','2','4']\n",
        "\n",
        "plt.figure(figsize=(18,5))\n",
        "\n",
        "plt.subplot(1,2,2)\n",
        "plt.title('Bar Chart')\n",
        "train_df.groupby('Action_Class').Action_name.count().plot(kind='bar') #Balanced\n",
        "plt.show()"
      ]
    },
    {
      "cell_type": "markdown",
      "metadata": {
        "id": "lst9rGeIxOGT"
      },
      "source": [
        "# Generator\n",
        "This is one of the most important part of the code. In the generator, we are going to preprocess the images as we have images of 2 different dimensions as well as create a batch of video frames. we have chosen `img_idx`, `y`,`z` and normalization in such a way that we get high accuracy."
      ]
    },
    {
      "cell_type": "markdown",
      "metadata": {
        "id": "Am4xInt1enX8"
      },
      "source": [
        "**Image Resize Checking**"
      ]
    },
    {
      "cell_type": "code",
      "execution_count": 10,
      "metadata": {
        "id": "xrwBaVWZxOGU"
      },
      "outputs": [],
      "source": [
        "# Here we are doing the resize all the images to check all images are in same size or not\n",
        "def crop_resize_img (image):\n",
        "    if image.shape[0] != image.shape[1]:\n",
        "        image = image[0:64,10:150]\n",
        "    resized_image = cv2.resize(image, (64,64))\n",
        "    return resized_image"
      ]
    },
    {
      "cell_type": "markdown",
      "metadata": {
        "id": "wIOSlKH3e5nL"
      },
      "source": [
        "## Generator\n",
        "This is one of the most important part of the code. The overall structure of the generator has been given. In the generator, you are going to preprocess the images as you have images of 2 different dimensions as well as create a batch of video frames. You have to experiment with `img_idx`, `y`,`z` and normalization such that you get high accuracy."
      ]
    },
    {
      "cell_type": "code",
      "execution_count": 11,
      "metadata": {
        "id": "Rwv-TWN-xOGU"
      },
      "outputs": [],
      "source": [
        "def generator(source_path, folder_list, batch_size):\n",
        "    print( 'Source path = ', source_path, '; batch size =', batch_size)\n",
        "    img_idx = list(range(5,25)) #create a list of image numbers you want to use for a particular video\n",
        "    x = len(img_idx)\n",
        "    y = 64\n",
        "    z = 64\n",
        "    \n",
        "    while True:\n",
        "        t = np.random.permutation(folder_list)\n",
        "        num_batches = int(len(t)//batch_size) # calculate the number of batches\n",
        "        for batch in range(num_batches): # we iterate over the number of batches\n",
        "            batch_data = np.zeros((batch_size,x,y,z,3)) # x is the number of images you use for each video, (y,z) is the final size of the input images and 3 is the number of channels RGB\n",
        "            batch_labels = np.zeros((batch_size,5)) # batch_labels is the one hot representation of the output\n",
        "            for folder in range(batch_size): # iterate over the batch_size\n",
        "                imgs = os.listdir(source_path+'/'+ t[folder + (batch*batch_size)].split(';')[0]) # read all the images in the folder\n",
        "                for idx,item in enumerate(img_idx): #  Iterate iver the frames/images of a folder to read them in\n",
        "                    image = io.imread(source_path+'/'+ t[folder + (batch*batch_size)].strip().split(';')[0]+'/'+imgs[item]).astype(np.float32)\n",
        "                    \n",
        "                    #crop the images and resize them. Note that the images are of 2 different shape \n",
        "                    #and the conv3D will throw error if the inputs in a batch have different shapes\n",
        "                    resized_img = crop_resize_img(image)\n",
        "                    \n",
        "                    batch_data[folder,idx,:,:,0] = resized_img[:,:,0]/255 #normalise and feed in the image\n",
        "                    batch_data[folder,idx,:,:,1] = resized_img[:,:,1]/255 #normalise and feed in the image\n",
        "                    batch_data[folder,idx,:,:,2] = resized_img[:,:,2]/255 #normalise and feed in the image\n",
        "                    \n",
        "                batch_labels[folder, int(t[folder + (batch*batch_size)].strip().split(';')[2])] = 1\n",
        "            yield batch_data, batch_labels #yield the batch_data and the batch_labels\n",
        "            \n",
        "\n",
        "        \n",
        "        # code for the remaining data points which are left after full batches\n",
        "        if int(len(t)%batch_size!=0):\n",
        "            rest_videos_count = int(len(t)%batch_size)\n",
        "            for folder in range(rest_videos_count): # iterate over the batch_size\n",
        "                imgs = os.listdir(source_path+'/'+ t[folder + ((num_batches)*batch_size)].split(';')[0]) # read all the images in the folder\n",
        "                for idx,item in enumerate(img_idx): #  Iterate iver the frames/images of a folder to read them in\n",
        "                    image = io.imread(source_path+'/'+ t[folder + ((num_batches)*batch_size)].strip().split(';')[0]+'/'+imgs[item]).astype(np.float32)\n",
        "                    \n",
        "                    #crop the images and resize them. Note that the images are of 2 different shape \n",
        "                    #and the conv3D will throw error if the inputs in a batch have different shapes\n",
        "                    resized_img = crop_resize_img(image) #resizing the image\n",
        "                    \n",
        "                    batch_data[folder,idx,:,:,0] = resized_img[:,:,0]/255 #normalise and feed in the image\n",
        "                    batch_data[folder,idx,:,:,1] = resized_img[:,:,1]/255 #normalise and feed in the image\n",
        "                    batch_data[folder,idx,:,:,2] = resized_img[:,:,2]/255 #normalise and feed in the image\n",
        "                    \n",
        "                batch_labels[folder, int(t[folder + (num_batches*batch_size)].strip().split(';')[2])] = 1\n",
        "            yield batch_data, batch_labels #yield the batch_data and the batch_labels, remember what does yield do"
      ]
    },
    {
      "cell_type": "markdown",
      "metadata": {
        "id": "R5iMBsvpxOGW"
      },
      "source": [
        "Note here that a video is represented above in the generator as (number of images, height, width, number of channels). We have taken this into consideration while creating the model architecture."
      ]
    },
    {
      "cell_type": "code",
      "execution_count": 12,
      "metadata": {
        "colab": {
          "base_uri": "https://localhost:8080/"
        },
        "id": "MzU6HbJdxOGX",
        "outputId": "16289c8d-07fc-4d2a-aa41-f3de3569a25c"
      },
      "outputs": [
        {
          "output_type": "stream",
          "name": "stdout",
          "text": [
            "# training sequences = 663\n",
            "# validation sequences = 100\n",
            "# epochs = 10\n"
          ]
        }
      ],
      "source": [
        "curr_dt_time = datetime.datetime.now()\n",
        "train_path = '/content/drive/MyDrive/Project_data/Project_data/train'\n",
        "val_path = '/content/drive/MyDrive/Project_data/Project_data/val'\n",
        "num_train_sequences = len(train_doc)\n",
        "print('# training sequences =', num_train_sequences)\n",
        "num_val_sequences = len(val_doc)\n",
        "print('# validation sequences =', num_val_sequences)\n",
        "num_epochs = 10 # choose the number of epochs\n",
        "print ('# epochs =', num_epochs)"
      ]
    },
    {
      "cell_type": "markdown",
      "metadata": {
        "id": "HPZeFnfDxOGX"
      },
      "source": [
        "## Model\n",
        "Here we make the model using different functionalities that Keras provides. We have used `Conv3D` and `MaxPooling3D` and not `Conv2D` and `Maxpooling2D` for a 3D convolution model. We have used `TimeDistributed` while building a Conv2D + RNN model. Also we have considered that the last layer is the softmax and we have designed the network in such a way that the model is able to give good accuracy on the least number of parameters so that it can fit in the memory of the webcam."
      ]
    },
    {
      "cell_type": "code",
      "execution_count": 15,
      "metadata": {
        "id": "QZrtT32MxOGY"
      },
      "outputs": [],
      "source": [
        "#Here we use some more useful libraries thats required furthure\n",
        "from keras.models import Sequential, Model\n",
        "from keras.layers import Dense, Flatten, TimeDistributed, Flatten, BatchNormalization, Activation, Dropout\n",
        "from keras.layers import Bidirectional,LSTM, SimpleRNN, GRU\n",
        "from keras.layers.convolutional import Conv3D, MaxPooling3D, Conv2D, MaxPooling2D\n",
        "from keras.callbacks import ModelCheckpoint, ReduceLROnPlateau\n",
        "from keras.regularizers import l2\n",
        "from keras import optimizers\n",
        "\n",
        "#write your model here"
      ]
    },
    {
      "cell_type": "markdown",
      "metadata": {
        "id": "rOzTneadxOGY"
      },
      "source": [
        "Now that we have written the model, the next step is to `compile` the model. When we print the `summary` of the model, we'll see the total number of parameters we have to train."
      ]
    },
    {
      "cell_type": "code",
      "execution_count": 16,
      "metadata": {
        "id": "vhKPi4DpxOGZ"
      },
      "outputs": [],
      "source": [
        "frame = 20\n",
        "rows = 64\n",
        "cols = 64\n",
        "channel_color = 3\n",
        "num_classes = 5"
      ]
    },
    {
      "cell_type": "markdown",
      "metadata": {
        "id": "wONfTZ83xOGZ"
      },
      "source": [
        "#**Conv3d Model no:- 1**"
      ]
    },
    {
      "cell_type": "code",
      "execution_count": 17,
      "metadata": {
        "id": "VRLS2vt6xOGa"
      },
      "outputs": [],
      "source": [
        "#Here we are going to implement our first model\n",
        "model = Sequential()\n",
        "\n",
        "#First CNN Layer\n",
        "model.add(Conv3D(32, kernel_size = (3,3,3), padding = \"same\", activation = \"relu\" , input_shape = (frame, rows, cols, channel_color)))\n",
        "model.add(BatchNormalization())\n",
        "\n",
        "#Second CNN Layer\n",
        "model.add(Conv3D(64, kernel_size=(3,3,3), padding='same', activation='relu'))\n",
        "model.add(BatchNormalization())\n",
        "model.add(MaxPooling3D(pool_size=(2, 2, 2)))\n",
        "\n",
        "#Third CNN Layer\n",
        "model.add(Conv3D(128, kernel_size=(3,3,3), padding='same', activation='relu'))\n",
        "model.add(BatchNormalization())\n",
        "model.add(MaxPooling3D(pool_size=(2, 2, 2)))\n",
        "\n",
        "#Flatten layers\n",
        "model.add(Flatten())\n",
        "\n",
        "#Dense layer\n",
        "model.add(Dense(256,  activation = \"relu\"))\n",
        "\n",
        "#softmax layer\n",
        "model.add(Dense(num_classes, activation = \"softmax\"))\n"
      ]
    },
    {
      "cell_type": "code",
      "execution_count": 18,
      "metadata": {
        "colab": {
          "base_uri": "https://localhost:8080/"
        },
        "id": "AvFEP1_ZxOGc",
        "outputId": "72af1459-9a05-4370-d236-42b519279f15"
      },
      "outputs": [
        {
          "output_type": "stream",
          "name": "stdout",
          "text": [
            "Model: \"sequential\"\n",
            "_________________________________________________________________\n",
            " Layer (type)                Output Shape              Param #   \n",
            "=================================================================\n",
            " conv3d (Conv3D)             (None, 20, 64, 64, 32)    2624      \n",
            "                                                                 \n",
            " batch_normalization (BatchN  (None, 20, 64, 64, 32)   128       \n",
            " ormalization)                                                   \n",
            "                                                                 \n",
            " conv3d_1 (Conv3D)           (None, 20, 64, 64, 64)    55360     \n",
            "                                                                 \n",
            " batch_normalization_1 (Batc  (None, 20, 64, 64, 64)   256       \n",
            " hNormalization)                                                 \n",
            "                                                                 \n",
            " max_pooling3d (MaxPooling3D  (None, 10, 32, 32, 64)   0         \n",
            " )                                                               \n",
            "                                                                 \n",
            " conv3d_2 (Conv3D)           (None, 10, 32, 32, 128)   221312    \n",
            "                                                                 \n",
            " batch_normalization_2 (Batc  (None, 10, 32, 32, 128)  512       \n",
            " hNormalization)                                                 \n",
            "                                                                 \n",
            " max_pooling3d_1 (MaxPooling  (None, 5, 16, 16, 128)   0         \n",
            " 3D)                                                             \n",
            "                                                                 \n",
            " flatten (Flatten)           (None, 163840)            0         \n",
            "                                                                 \n",
            " dense (Dense)               (None, 256)               41943296  \n",
            "                                                                 \n",
            " dense_1 (Dense)             (None, 5)                 1285      \n",
            "                                                                 \n",
            "=================================================================\n",
            "Total params: 42,224,773\n",
            "Trainable params: 42,224,325\n",
            "Non-trainable params: 448\n",
            "_________________________________________________________________\n",
            "None\n"
          ]
        }
      ],
      "source": [
        "### Here we choose an appropirate optimiser and loss function\n",
        "## Here we use adam as optimiser it is gradient descent method.\n",
        "## Here categorical_crossentropy this function used for loss function.\n",
        "optimiser = \"adam\"\n",
        "model.compile(optimizer=optimiser, loss='categorical_crossentropy', metrics=['categorical_accuracy'])\n",
        "print (model.summary())"
      ]
    },
    {
      "cell_type": "markdown",
      "metadata": {
        "id": "QSczZZZAxOGd"
      },
      "source": [
        "Let us create the `train_generator` and the `val_generator` which will be used in `.fit_generator`."
      ]
    },
    {
      "cell_type": "code",
      "execution_count": 19,
      "metadata": {
        "id": "AaMcdr6VxOGe"
      },
      "outputs": [],
      "source": [
        "train_generator = generator(train_path, train_doc, batch_size)\n",
        "val_generator = generator(val_path, val_doc, batch_size)"
      ]
    },
    {
      "cell_type": "code",
      "execution_count": 25,
      "metadata": {
        "colab": {
          "base_uri": "https://localhost:8080/"
        },
        "id": "uemtvVwbxOGe",
        "outputId": "d4ec6cb4-3f95-475a-d7ed-c1e4d6e1aaa0"
      },
      "outputs": [
        {
          "output_type": "stream",
          "name": "stdout",
          "text": [
            "filepath :-> model_init_2022-07-1314_21_51.950577/model-{epoch:05d}-{loss:.5f}-{categorical_accuracy:.5f}-{val_loss:.5f}-{val_categorical_accuracy:.5f}.h5\n",
            "WARNING:tensorflow:`period` argument is deprecated. Please use `save_freq` to specify the frequency in number of batches seen.\n"
          ]
        }
      ],
      "source": [
        "model_name = 'model_init' + '_' + str(curr_dt_time).replace(' ','').replace(':','_') + '/'\n",
        "    \n",
        "if not os.path.exists(model_name):\n",
        "    os.mkdir(model_name)\n",
        "        \n",
        "filepath = model_name + 'model-{epoch:05d}-{loss:.5f}-{categorical_accuracy:.5f}-{val_loss:.5f}-{val_categorical_accuracy:.5f}.h5'\n",
        "print(\"filepath :->\", filepath)\n",
        "checkpoint = ModelCheckpoint(filepath, monitor='val_loss', verbose=1, save_best_only=True, save_weights_only=False, mode='auto', period=1)\n",
        "\n",
        "LR = ReduceLROnPlateau(monitor = \"val_loss\", fractor = 0.5, patience = 2, cooldown = 1, verbose = 1) # write the REducelronplateau code here\n",
        "callbacks_list = [checkpoint, LR]"
      ]
    },
    {
      "cell_type": "markdown",
      "metadata": {
        "id": "zWETC7mqxOGf"
      },
      "source": [
        "The `steps_per_epoch` and `validation_steps` are used by `fit_generator` to decide the number of next() calls it need to make."
      ]
    },
    {
      "cell_type": "code",
      "execution_count": 21,
      "metadata": {
        "colab": {
          "base_uri": "https://localhost:8080/"
        },
        "id": "QtbSewKjxOGf",
        "outputId": "d3bf8cce-4356-4780-a086-7664a1a80f74"
      },
      "outputs": [
        {
          "output_type": "stream",
          "name": "stdout",
          "text": [
            "Train steps_per_epoch:  67\n",
            "Validation validation_steps:  10\n"
          ]
        }
      ],
      "source": [
        "if (num_train_sequences%batch_size) == 0:\n",
        "    steps_per_epoch = int(num_train_sequences/batch_size)\n",
        "else:\n",
        "    steps_per_epoch = (num_train_sequences//batch_size) + 1\n",
        "\n",
        "if (num_val_sequences%batch_size) == 0:\n",
        "    validation_steps = int(num_val_sequences/batch_size)\n",
        "else:\n",
        "    validation_steps = (num_val_sequences//batch_size) + 1\n",
        "    \n",
        "    \n",
        "print(\"Train steps_per_epoch: \", steps_per_epoch)\n",
        "print(\"Validation validation_steps: \", validation_steps)"
      ]
    },
    {
      "cell_type": "markdown",
      "metadata": {
        "id": "XglAet-QxOGg"
      },
      "source": [
        "Let us now fit the model. This will start training the model and with the help of the checkpoints, you'll be able to save the model at the end of each epoch."
      ]
    },
    {
      "cell_type": "markdown",
      "metadata": {
        "id": "KSF4kCHch_Di"
      },
      "source": [
        "### Train the model:-1"
      ]
    },
    {
      "cell_type": "code",
      "execution_count": null,
      "metadata": {
        "colab": {
          "base_uri": "https://localhost:8080/"
        },
        "id": "3btjISDExOGg",
        "outputId": "c29d5620-02a4-40a1-c04e-657eaee9251b"
      },
      "outputs": [
        {
          "name": "stderr",
          "output_type": "stream",
          "text": [
            "/usr/local/lib/python3.7/dist-packages/ipykernel_launcher.py:3: UserWarning: `Model.fit_generator` is deprecated and will be removed in a future version. Please use `Model.fit`, which supports generators.\n",
            "  This is separate from the ipykernel package so we can avoid doing imports until\n"
          ]
        },
        {
          "name": "stdout",
          "output_type": "stream",
          "text": [
            "Source path =  /content/drive/MyDrive/Project_data/Project_data/train ; batch size = 10\n",
            "Epoch 1/10\n",
            "67/67 [==============================] - ETA: 0s - loss: 29.7196 - categorical_accuracy: 0.2836 Source path =  /content/drive/MyDrive/Project_data/Project_data/val ; batch size = 10\n",
            "\n",
            "Epoch 1: val_loss improved from inf to 65.93421, saving model to model_init_2022-07-1312_46_10.826476/model-00001-29.71961-0.28358-65.93421-0.18000.h5\n",
            "67/67 [==============================] - 3787s 57s/step - loss: 29.7196 - categorical_accuracy: 0.2836 - val_loss: 65.9342 - val_categorical_accuracy: 0.1800 - lr: 0.0010\n",
            "Epoch 2/10\n",
            "67/67 [==============================] - ETA: 0s - loss: 2.5038 - categorical_accuracy: 0.2776\n",
            "Epoch 2: val_loss improved from 65.93421 to 20.37901, saving model to model_init_2022-07-1312_46_10.826476/model-00002-2.50380-0.27761-20.37901-0.21000.h5\n",
            "67/67 [==============================] - 61s 926ms/step - loss: 2.5038 - categorical_accuracy: 0.2776 - val_loss: 20.3790 - val_categorical_accuracy: 0.2100 - lr: 0.0010\n",
            "Epoch 3/10\n",
            "67/67 [==============================] - ETA: 0s - loss: 1.6316 - categorical_accuracy: 0.2597\n",
            "Epoch 3: val_loss improved from 20.37901 to 6.62554, saving model to model_init_2022-07-1312_46_10.826476/model-00003-1.63155-0.25970-6.62554-0.15000.h5\n",
            "67/67 [==============================] - 62s 939ms/step - loss: 1.6316 - categorical_accuracy: 0.2597 - val_loss: 6.6255 - val_categorical_accuracy: 0.1500 - lr: 0.0010\n",
            "Epoch 4/10\n",
            "67/67 [==============================] - ETA: 0s - loss: 1.5705 - categorical_accuracy: 0.2925\n",
            "Epoch 4: val_loss did not improve from 6.62554\n",
            "67/67 [==============================] - 59s 897ms/step - loss: 1.5705 - categorical_accuracy: 0.2925 - val_loss: 7.2551 - val_categorical_accuracy: 0.2600 - lr: 0.0010\n",
            "Epoch 5/10\n",
            "67/67 [==============================] - ETA: 0s - loss: 1.5274 - categorical_accuracy: 0.2716\n",
            "Epoch 5: val_loss improved from 6.62554 to 4.15993, saving model to model_init_2022-07-1312_46_10.826476/model-00005-1.52740-0.27164-4.15993-0.19000.h5\n",
            "67/67 [==============================] - 62s 940ms/step - loss: 1.5274 - categorical_accuracy: 0.2716 - val_loss: 4.1599 - val_categorical_accuracy: 0.1900 - lr: 0.0010\n",
            "Epoch 6/10\n",
            "67/67 [==============================] - ETA: 0s - loss: 1.5787 - categorical_accuracy: 0.2881\n",
            "Epoch 6: val_loss did not improve from 4.15993\n",
            "67/67 [==============================] - 60s 898ms/step - loss: 1.5787 - categorical_accuracy: 0.2881 - val_loss: 5.5898 - val_categorical_accuracy: 0.2900 - lr: 0.0010\n",
            "Epoch 7/10\n",
            "67/67 [==============================] - ETA: 0s - loss: 1.5352 - categorical_accuracy: 0.3000\n",
            "Epoch 7: val_loss improved from 4.15993 to 3.89719, saving model to model_init_2022-07-1312_46_10.826476/model-00007-1.53520-0.30000-3.89719-0.22000.h5\n",
            "67/67 [==============================] - 62s 933ms/step - loss: 1.5352 - categorical_accuracy: 0.3000 - val_loss: 3.8972 - val_categorical_accuracy: 0.2200 - lr: 0.0010\n",
            "Epoch 8/10\n",
            "67/67 [==============================] - ETA: 0s - loss: 1.7149 - categorical_accuracy: 0.2940\n",
            "Epoch 8: val_loss improved from 3.89719 to 3.71752, saving model to model_init_2022-07-1312_46_10.826476/model-00008-1.71488-0.29403-3.71752-0.24000.h5\n",
            "67/67 [==============================] - 61s 927ms/step - loss: 1.7149 - categorical_accuracy: 0.2940 - val_loss: 3.7175 - val_categorical_accuracy: 0.2400 - lr: 0.0010\n",
            "Epoch 9/10\n",
            "67/67 [==============================] - ETA: 0s - loss: 1.7473 - categorical_accuracy: 0.3164\n",
            "Epoch 9: val_loss did not improve from 3.71752\n",
            "67/67 [==============================] - 59s 896ms/step - loss: 1.7473 - categorical_accuracy: 0.3164 - val_loss: 4.4178 - val_categorical_accuracy: 0.2500 - lr: 0.0010\n",
            "Epoch 10/10\n",
            "67/67 [==============================] - ETA: 0s - loss: 1.6003 - categorical_accuracy: 0.3224\n",
            "Epoch 10: val_loss did not improve from 3.71752\n",
            "\n",
            "Epoch 10: ReduceLROnPlateau reducing learning rate to 0.00010000000474974513.\n",
            "67/67 [==============================] - 61s 919ms/step - loss: 1.6003 - categorical_accuracy: 0.3224 - val_loss: 7.8671 - val_categorical_accuracy: 0.2000 - lr: 0.0010\n"
          ]
        }
      ],
      "source": [
        "history = model.fit_generator(train_generator, steps_per_epoch=steps_per_epoch, epochs=num_epochs, verbose=1, \n",
        "                    callbacks=callbacks_list, validation_data=val_generator, \n",
        "                    validation_steps=validation_steps, class_weight=None, workers=1, initial_epoch=0)"
      ]
    },
    {
      "cell_type": "code",
      "execution_count": 38,
      "metadata": {
        "id": "MfqJV_LWxOGg"
      },
      "outputs": [],
      "source": [
        "def plot(history):\n",
        "    fig, axes = plt.subplots(nrows=1, ncols=2, figsize=(8,8))\n",
        "    axes[0].plot(history.history['loss'])   \n",
        "    axes[0].plot(history.history['val_loss'])\n",
        "    axes[0].legend(['loss','val_loss'], loc='upper left')\n",
        "\n",
        "    axes[1].plot(history.history['categorical_accuracy'])   \n",
        "    axes[1].plot(history.history['val_categorical_accuracy'])\n",
        "    axes[1].legend(['categorical_accuracy','val_categorical_accuracy'], loc='upper left')"
      ]
    },
    {
      "cell_type": "code",
      "execution_count": 39,
      "metadata": {
        "colab": {
          "base_uri": "https://localhost:8080/",
          "height": 483
        },
        "id": "whR8amV9xOGh",
        "outputId": "6cc98904-fd09-4665-b419-613d28149e84"
      },
      "outputs": [
        {
          "output_type": "display_data",
          "data": {
            "text/plain": [
              "<Figure size 576x576 with 2 Axes>"
            ],
            "image/png": "[encoded data removed]"
          },
          "metadata": {
            "needs_background": "light"
          }
        }
      ],
      "source": [
        "plot(history)"
      ]
    },
    {
      "cell_type": "code",
      "execution_count": 34,
      "metadata": {
        "id": "6O7gWUkUxOGh"
      },
      "outputs": [],
      "source": [
        "model_detail_df = pd.DataFrame()"
      ]
    },
    {
      "cell_type": "code",
      "execution_count": 31,
      "metadata": {
        "id": "fxjsvl9_xOGi"
      },
      "outputs": [],
      "source": [
        "def model_result(model_name ,accuracy, loss, val_accuracy, val_loss):\n",
        "    model_detail_dic = {\"Model Name\" : model_name,\n",
        "                   \"Model Accuracy\" : accuracy * 100,\n",
        "                   \"Validation Accuracy\" : val_accuracy * 100,\n",
        "                   \"Model Loss\" : loss * 100 ,\n",
        "                   \"Validation Loss\" : val_loss * 100}\n",
        "\n",
        "    df = pd.DataFrame([model_detail_dic])\n",
        "    return df\n",
        "    "
      ]
    },
    {
      "cell_type": "code",
      "execution_count": 35,
      "metadata": {
        "colab": {
          "base_uri": "https://localhost:8080/"
        },
        "id": "zcRWzNzIxOGi",
        "outputId": "27122dca-3ba6-4a0a-abf6-4d6e331b061e"
      },
      "outputs": [
        {
          "output_type": "stream",
          "name": "stdout",
          "text": [
            "       Model Name  Model Accuracy  Validation Accuracy  Model Loss  \\\n",
            "0  Conv3d_Model_1       67.164177            60.000002  844.355679   \n",
            "\n",
            "   Validation Loss  \n",
            "0       866.861343  \n"
          ]
        }
      ],
      "source": [
        "df1 = model_result(\"Conv3d_Model_1\",history.history['categorical_accuracy'][-1], history.history['loss'][-1] , history.history['val_categorical_accuracy'][-1], history.history['val_loss'][-1])\n",
        "\n",
        "model_detail_df = pd.concat([model_detail_df,df1])\n",
        "print(model_detail_df.head(20))"
      ]
    },
    {
      "cell_type": "markdown",
      "metadata": {
        "id": "hH9y3d2Gki-T"
      },
      "source": [
        "#**Conv3d Model no:- 2 with L2 Regularization and \"SGD\" optimizer**\n",
        "\n"
      ]
    },
    {
      "cell_type": "code",
      "execution_count": 22,
      "metadata": {
        "colab": {
          "base_uri": "https://localhost:8080/"
        },
        "id": "bPvQ3IIlkmzE",
        "outputId": "584a4cca-921f-4359-8c4f-f67380046dc9"
      },
      "outputs": [
        {
          "output_type": "stream",
          "name": "stdout",
          "text": [
            "Model: \"sequential_1\"\n",
            "_________________________________________________________________\n",
            " Layer (type)                Output Shape              Param #   \n",
            "=================================================================\n",
            " conv3d_3 (Conv3D)           (None, 20, 64, 64, 16)    1312      \n",
            "                                                                 \n",
            " batch_normalization_3 (Batc  (None, 20, 64, 64, 16)   64        \n",
            " hNormalization)                                                 \n",
            "                                                                 \n",
            " max_pooling3d_2 (MaxPooling  (None, 10, 32, 32, 16)   0         \n",
            " 3D)                                                             \n",
            "                                                                 \n",
            " conv3d_4 (Conv3D)           (None, 10, 32, 32, 32)    13856     \n",
            "                                                                 \n",
            " batch_normalization_4 (Batc  (None, 10, 32, 32, 32)   128       \n",
            " hNormalization)                                                 \n",
            "                                                                 \n",
            " max_pooling3d_3 (MaxPooling  (None, 5, 16, 16, 32)    0         \n",
            " 3D)                                                             \n",
            "                                                                 \n",
            " dropout (Dropout)           (None, 5, 16, 16, 32)     0         \n",
            "                                                                 \n",
            " conv3d_5 (Conv3D)           (None, 5, 16, 16, 64)     55360     \n",
            "                                                                 \n",
            " batch_normalization_5 (Batc  (None, 5, 16, 16, 64)    256       \n",
            " hNormalization)                                                 \n",
            "                                                                 \n",
            " max_pooling3d_4 (MaxPooling  (None, 2, 8, 8, 64)      0         \n",
            " 3D)                                                             \n",
            "                                                                 \n",
            " dropout_1 (Dropout)         (None, 2, 8, 8, 64)       0         \n",
            "                                                                 \n",
            " conv3d_6 (Conv3D)           (None, 2, 8, 8, 128)      221312    \n",
            "                                                                 \n",
            " batch_normalization_6 (Batc  (None, 2, 8, 8, 128)     512       \n",
            " hNormalization)                                                 \n",
            "                                                                 \n",
            " max_pooling3d_5 (MaxPooling  (None, 1, 4, 4, 128)     0         \n",
            " 3D)                                                             \n",
            "                                                                 \n",
            " flatten_1 (Flatten)         (None, 2048)              0         \n",
            "                                                                 \n",
            " dense_2 (Dense)             (None, 512)               1049088   \n",
            "                                                                 \n",
            " dropout_2 (Dropout)         (None, 512)               0         \n",
            "                                                                 \n",
            " dense_3 (Dense)             (None, 5)                 2565      \n",
            "                                                                 \n",
            "=================================================================\n",
            "Total params: 1,344,453\n",
            "Trainable params: 1,343,973\n",
            "Non-trainable params: 480\n",
            "_________________________________________________________________\n",
            "None\n"
          ]
        }
      ],
      "source": [
        "#Here we are going to try new optimizer 'sgd' same architecture with 10 epochs\n",
        "\n",
        "#define model\n",
        "model_2 = Sequential()\n",
        "\n",
        "#First CNN Layer\n",
        "model_2.add(Conv3D(16, kernel_size=(3,3,3), padding='same', activation='relu',input_shape = (20,64,64,3)))\n",
        "model_2.add(BatchNormalization())\n",
        "model_2.add(MaxPooling3D(pool_size=(2, 2, 2)))\n",
        "\n",
        "#Second CNN Layer\n",
        "model_2.add(Conv3D(32, kernel_size=(3,3,3), padding='same', activation='relu'))\n",
        "model_2.add(BatchNormalization())\n",
        "model_2.add(MaxPooling3D(pool_size=(2, 2, 2)))\n",
        "model_2.add(Dropout(0.25))\n",
        "\n",
        "#Third CNN Layer\n",
        "model_2.add(Conv3D(64, kernel_size=(3,3,3), padding='same', activation='relu'))\n",
        "model_2.add(BatchNormalization())\n",
        "model_2.add(MaxPooling3D(pool_size=(2, 2, 2)))\n",
        "model_2.add(Dropout(0.25))\n",
        "\n",
        "#Fourth CNN Layer\n",
        "model_2.add(Conv3D(128, kernel_size=(3,3,3), padding='same', activation='relu'))\n",
        "model_2.add(BatchNormalization())\n",
        "model_2.add(MaxPooling3D(pool_size=(2, 2, 2)))\n",
        "\n",
        "#Flatten Layer\n",
        "model_2.add(Flatten())\n",
        "\n",
        "#Dense Layer\n",
        "model_2.add(Dense(512,kernel_regularizer=l2(0.01),activation='relu'))\n",
        "model_2.add(Dropout(0.50))\n",
        "\n",
        "\n",
        "#Softmax Layer\n",
        "model_2.add(Dense(5, activation = 'softmax'))\n",
        "\n",
        "#SGD optimiser on place of adam\n",
        "optimiser = 'sgd'\n",
        "model_2.compile(optimizer=optimiser, loss='categorical_crossentropy', metrics=['categorical_accuracy'])\n",
        "print (model_2.summary())"
      ]
    },
    {
      "cell_type": "markdown",
      "metadata": {
        "id": "OsD2FtMum310"
      },
      "source": [
        "**Train our model:-2**"
      ]
    },
    {
      "cell_type": "code",
      "execution_count": 26,
      "metadata": {
        "colab": {
          "base_uri": "https://localhost:8080/"
        },
        "id": "GqV8jNb0m2B9",
        "outputId": "889deb63-4faf-4f47-b61e-c8e63a287c19"
      },
      "outputs": [
        {
          "output_type": "stream",
          "name": "stderr",
          "text": [
            "/usr/local/lib/python3.7/dist-packages/ipykernel_launcher.py:3: UserWarning: `Model.fit_generator` is deprecated and will be removed in a future version. Please use `Model.fit`, which supports generators.\n",
            "  This is separate from the ipykernel package so we can avoid doing imports until\n"
          ]
        },
        {
          "output_type": "stream",
          "name": "stdout",
          "text": [
            "Epoch 1/10\n",
            "67/67 [==============================] - ETA: 0s - loss: 10.6954 - categorical_accuracy: 0.3209 Source path =  /content/drive/MyDrive/Project_data/Project_data/val ; batch size = 10\n",
            "\n",
            "Epoch 1: val_loss improved from inf to 9.64882, saving model to model_init_2022-07-1314_21_51.950577/model-00001-10.69535-0.32090-9.64882-0.35000.h5\n",
            "67/67 [==============================] - 3502s 53s/step - loss: 10.6954 - categorical_accuracy: 0.3209 - val_loss: 9.6488 - val_categorical_accuracy: 0.3500 - lr: 0.0100\n",
            "Epoch 2/10\n",
            "67/67 [==============================] - ETA: 0s - loss: 9.2964 - categorical_accuracy: 0.4030\n",
            "Epoch 2: val_loss did not improve from 9.64882\n",
            "67/67 [==============================] - 59s 889ms/step - loss: 9.2964 - categorical_accuracy: 0.4030 - val_loss: 10.4638 - val_categorical_accuracy: 0.2200 - lr: 0.0100\n",
            "Epoch 3/10\n",
            "67/67 [==============================] - ETA: 0s - loss: 8.9499 - categorical_accuracy: 0.4701\n",
            "Epoch 3: val_loss did not improve from 9.64882\n",
            "\n",
            "Epoch 3: ReduceLROnPlateau reducing learning rate to 0.0009999999776482583.\n",
            "67/67 [==============================] - 58s 877ms/step - loss: 8.9499 - categorical_accuracy: 0.4701 - val_loss: 10.1694 - val_categorical_accuracy: 0.2700 - lr: 0.0100\n",
            "Epoch 4/10\n",
            "67/67 [==============================] - ETA: 0s - loss: 8.5996 - categorical_accuracy: 0.5821\n",
            "Epoch 4: val_loss did not improve from 9.64882\n",
            "67/67 [==============================] - 58s 873ms/step - loss: 8.5996 - categorical_accuracy: 0.5821 - val_loss: 9.9768 - val_categorical_accuracy: 0.3000 - lr: 1.0000e-03\n",
            "Epoch 5/10\n",
            "67/67 [==============================] - ETA: 0s - loss: 8.5228 - categorical_accuracy: 0.6358\n",
            "Epoch 5: val_loss did not improve from 9.64882\n",
            "\n",
            "Epoch 5: ReduceLROnPlateau reducing learning rate to 9.999999310821295e-05.\n",
            "67/67 [==============================] - 57s 866ms/step - loss: 8.5228 - categorical_accuracy: 0.6358 - val_loss: 9.7569 - val_categorical_accuracy: 0.3100 - lr: 1.0000e-03\n",
            "Epoch 6/10\n",
            "67/67 [==============================] - ETA: 0s - loss: 8.5240 - categorical_accuracy: 0.6194\n",
            "Epoch 6: val_loss improved from 9.64882 to 9.26787, saving model to model_init_2022-07-1314_21_51.950577/model-00006-8.52403-0.61940-9.26787-0.34000.h5\n",
            "67/67 [==============================] - 58s 884ms/step - loss: 8.5240 - categorical_accuracy: 0.6194 - val_loss: 9.2679 - val_categorical_accuracy: 0.3400 - lr: 1.0000e-04\n",
            "Epoch 7/10\n",
            "67/67 [==============================] - ETA: 0s - loss: 8.5159 - categorical_accuracy: 0.6269\n",
            "Epoch 7: val_loss improved from 9.26787 to 9.00269, saving model to model_init_2022-07-1314_21_51.950577/model-00007-8.51585-0.62687-9.00269-0.48000.h5\n",
            "67/67 [==============================] - 58s 873ms/step - loss: 8.5159 - categorical_accuracy: 0.6269 - val_loss: 9.0027 - val_categorical_accuracy: 0.4800 - lr: 1.0000e-04\n",
            "Epoch 8/10\n",
            "67/67 [==============================] - ETA: 0s - loss: 8.4798 - categorical_accuracy: 0.6343\n",
            "Epoch 8: val_loss improved from 9.00269 to 8.85390, saving model to model_init_2022-07-1314_21_51.950577/model-00008-8.47984-0.63433-8.85390-0.55000.h5\n",
            "67/67 [==============================] - 58s 885ms/step - loss: 8.4798 - categorical_accuracy: 0.6343 - val_loss: 8.8539 - val_categorical_accuracy: 0.5500 - lr: 1.0000e-04\n",
            "Epoch 9/10\n",
            "67/67 [==============================] - ETA: 0s - loss: 8.4960 - categorical_accuracy: 0.6299\n",
            "Epoch 9: val_loss improved from 8.85390 to 8.71781, saving model to model_init_2022-07-1314_21_51.950577/model-00009-8.49600-0.62985-8.71781-0.54000.h5\n",
            "67/67 [==============================] - 57s 870ms/step - loss: 8.4960 - categorical_accuracy: 0.6299 - val_loss: 8.7178 - val_categorical_accuracy: 0.5400 - lr: 1.0000e-04\n",
            "Epoch 10/10\n",
            "67/67 [==============================] - ETA: 0s - loss: 8.4436 - categorical_accuracy: 0.6716\n",
            "Epoch 10: val_loss improved from 8.71781 to 8.66861, saving model to model_init_2022-07-1314_21_51.950577/model-00010-8.44356-0.67164-8.66861-0.60000.h5\n",
            "67/67 [==============================] - 58s 873ms/step - loss: 8.4436 - categorical_accuracy: 0.6716 - val_loss: 8.6686 - val_categorical_accuracy: 0.6000 - lr: 1.0000e-04\n"
          ]
        }
      ],
      "source": [
        "history = model_2.fit_generator(train_generator, steps_per_epoch=steps_per_epoch, epochs=num_epochs, verbose=1, \n",
        "                    callbacks=callbacks_list, validation_data=val_generator, \n",
        "                    validation_steps=validation_steps, class_weight=None, workers=1, initial_epoch=0)"
      ]
    },
    {
      "cell_type": "code",
      "execution_count": 29,
      "metadata": {
        "id": "tPObq663nxRu",
        "colab": {
          "base_uri": "https://localhost:8080/",
          "height": 483
        },
        "outputId": "396c373a-b181-4f57-eaac-7cad2f64252c"
      },
      "outputs": [
        {
          "output_type": "display_data",
          "data": {
            "text/plain": [
              "<Figure size 576x576 with 2 Axes>"
            ],
            "image/png": "[encoded data removed]"
          },
          "metadata": {
            "needs_background": "light"
          }
        }
      ],
      "source": [
        "def plot(history):\n",
        "    fig, axes = plt.subplots(nrows=1, ncols=2, figsize=(8,8))\n",
        "    axes[0].plot(history.history['loss'])   \n",
        "    axes[0].plot(history.history['val_loss'])\n",
        "    axes[0].legend(['loss','val_loss'], loc='upper left')\n",
        "\n",
        "    axes[1].plot(history.history['categorical_accuracy'])   \n",
        "    axes[1].plot(history.history['val_categorical_accuracy'])\n",
        "    axes[1].legend(['categorical_accuracy','val_categorical_accuracy'], loc='upper left')\n",
        "plot(history)"
      ]
    },
    {
      "cell_type": "code",
      "execution_count": 36,
      "metadata": {
        "id": "AGvIHQVVoK_I",
        "colab": {
          "base_uri": "https://localhost:8080/"
        },
        "outputId": "55a0ea50-7361-491e-9cd7-260d7743b465"
      },
      "outputs": [
        {
          "output_type": "stream",
          "name": "stdout",
          "text": [
            "           Model Name  Model Accuracy  Validation Accuracy  Model Loss  \\\n",
            "0      Conv3d_Model_1       67.164177            60.000002  844.355679   \n",
            "0  Conv3d_Model_2_SGD       67.164177            60.000002  844.355679   \n",
            "\n",
            "   Validation Loss  \n",
            "0       866.861343  \n",
            "0       866.861343  \n"
          ]
        }
      ],
      "source": [
        "df1 = model_result(\"Conv3d_Model_2_SGD\",history.history['categorical_accuracy'][-1], history.history['loss'][-1] , history.history['val_categorical_accuracy'][-1], history.history['val_loss'][-1])\n",
        "\n",
        "model_detail_df = pd.concat([model_detail_df,df1])\n",
        "print(model_detail_df.head(20))"
      ]
    },
    {
      "cell_type": "markdown",
      "metadata": {
        "id": "ZG9xbv4uxxOw"
      },
      "source": [
        "#**Conv3d Model no:- 3 Add more CNN Layer**"
      ]
    },
    {
      "cell_type": "code",
      "execution_count": 37,
      "metadata": {
        "id": "NHiHlzoZxwcZ",
        "colab": {
          "base_uri": "https://localhost:8080/"
        },
        "outputId": "e92db9bb-546c-456a-a15a-26a98453df13"
      },
      "outputs": [
        {
          "output_type": "stream",
          "name": "stdout",
          "text": [
            "Model: \"sequential_2\"\n",
            "_________________________________________________________________\n",
            " Layer (type)                Output Shape              Param #   \n",
            "=================================================================\n",
            " conv3d_7 (Conv3D)           (None, 20, 64, 64, 16)    1312      \n",
            "                                                                 \n",
            " batch_normalization_7 (Batc  (None, 20, 64, 64, 16)   64        \n",
            " hNormalization)                                                 \n",
            "                                                                 \n",
            " max_pooling3d_6 (MaxPooling  (None, 10, 32, 32, 16)   0         \n",
            " 3D)                                                             \n",
            "                                                                 \n",
            " conv3d_8 (Conv3D)           (None, 10, 32, 32, 32)    13856     \n",
            "                                                                 \n",
            " batch_normalization_8 (Batc  (None, 10, 32, 32, 32)   128       \n",
            " hNormalization)                                                 \n",
            "                                                                 \n",
            " conv3d_9 (Conv3D)           (None, 10, 32, 32, 32)    27680     \n",
            "                                                                 \n",
            " batch_normalization_9 (Batc  (None, 10, 32, 32, 32)   128       \n",
            " hNormalization)                                                 \n",
            "                                                                 \n",
            " max_pooling3d_7 (MaxPooling  (None, 5, 16, 16, 32)    0         \n",
            " 3D)                                                             \n",
            "                                                                 \n",
            " conv3d_10 (Conv3D)          (None, 5, 16, 16, 64)     55360     \n",
            "                                                                 \n",
            " batch_normalization_10 (Bat  (None, 5, 16, 16, 64)    256       \n",
            " chNormalization)                                                \n",
            "                                                                 \n",
            " conv3d_11 (Conv3D)          (None, 5, 16, 16, 64)     110656    \n",
            "                                                                 \n",
            " batch_normalization_11 (Bat  (None, 5, 16, 16, 64)    256       \n",
            " chNormalization)                                                \n",
            "                                                                 \n",
            " max_pooling3d_8 (MaxPooling  (None, 2, 8, 8, 64)      0         \n",
            " 3D)                                                             \n",
            "                                                                 \n",
            " conv3d_12 (Conv3D)          (None, 2, 8, 8, 128)      221312    \n",
            "                                                                 \n",
            " batch_normalization_12 (Bat  (None, 2, 8, 8, 128)     512       \n",
            " chNormalization)                                                \n",
            "                                                                 \n",
            " conv3d_13 (Conv3D)          (None, 2, 8, 8, 128)      442496    \n",
            "                                                                 \n",
            " batch_normalization_13 (Bat  (None, 2, 8, 8, 128)     512       \n",
            " chNormalization)                                                \n",
            "                                                                 \n",
            " max_pooling3d_9 (MaxPooling  (None, 1, 4, 4, 128)     0         \n",
            " 3D)                                                             \n",
            "                                                                 \n",
            " flatten_2 (Flatten)         (None, 2048)              0         \n",
            "                                                                 \n",
            " dense_4 (Dense)             (None, 256)               524544    \n",
            "                                                                 \n",
            " dropout_3 (Dropout)         (None, 256)               0         \n",
            "                                                                 \n",
            " dense_5 (Dense)             (None, 5)                 1285      \n",
            "                                                                 \n",
            "=================================================================\n",
            "Total params: 1,400,357\n",
            "Trainable params: 1,399,429\n",
            "Non-trainable params: 928\n",
            "_________________________________________________________________\n",
            "None\n"
          ]
        }
      ],
      "source": [
        "#Here we are going to try some more cnn layer same architecture with 10 epochs\n",
        "\n",
        "#define model\n",
        "model_3 = Sequential()\n",
        "\n",
        "#First CNN Layer\n",
        "model_3.add(Conv3D(16, kernel_size=(3,3,3), padding='same', activation='relu',input_shape = (20,64,64,3)))\n",
        "model_3.add(BatchNormalization())\n",
        "\n",
        "model_3.add(MaxPooling3D(pool_size=(2, 2, 2)))\n",
        "\n",
        "#Second CNN Layer\n",
        "model_3.add(Conv3D(32, kernel_size=(3,3,3), padding='same', activation='relu'))\n",
        "model_3.add(BatchNormalization())\n",
        "\n",
        "#Fourth CNN Layer\n",
        "model_3.add(Conv3D(32, kernel_size=(3,3,3), padding='same', activation='relu'))\n",
        "model_3.add(BatchNormalization())\n",
        "\n",
        "model_3.add(MaxPooling3D(pool_size=(2, 2, 2)))\n",
        "\n",
        "#Fifth CNN Layer\n",
        "model_3.add(Conv3D(64, kernel_size=(3,3,3), padding='same', activation='relu'))\n",
        "model_3.add(BatchNormalization())\n",
        "\n",
        "#Sixth CNN Layer\n",
        "model_3.add(Conv3D(64, kernel_size=(3,3,3), padding='same', activation='relu'))\n",
        "model_3.add(BatchNormalization())\n",
        "\n",
        "model_3.add(MaxPooling3D(pool_size=(2, 2, 2)))\n",
        "\n",
        "#Seventh CNN Layer\n",
        "model_3.add(Conv3D(128, kernel_size=(3,3,3), padding='same', activation='relu'))\n",
        "model_3.add(BatchNormalization())\n",
        "\n",
        "#Eighth CNN Layer\n",
        "model_3.add(Conv3D(128, kernel_size=(3,3,3), padding='same', activation='relu'))\n",
        "model_3.add(BatchNormalization())\n",
        "\n",
        "model_3.add(MaxPooling3D(pool_size=(2, 2, 2)))\n",
        "\n",
        "#Flatten Layer\n",
        "model_3.add(Flatten())\n",
        "\n",
        "#Dense Layer\n",
        "model_3.add(Dense(256,kernel_regularizer=l2(0.01),activation='relu'))\n",
        "model_3.add(Dropout(0.50))\n",
        "\n",
        "model_3.add(Dense(5, activation = 'softmax'))\n",
        "\n",
        "#'sgd' optimiser\n",
        "optimiser = 'sgd'\n",
        "model_3.compile(optimizer=optimiser, loss='categorical_crossentropy', metrics=['categorical_accuracy'])\n",
        "print (model_3.summary())"
      ]
    },
    {
      "cell_type": "markdown",
      "metadata": {
        "id": "OayIpK0MXs9d"
      },
      "source": [
        "**Train our model:-3**"
      ]
    },
    {
      "cell_type": "code",
      "execution_count": 40,
      "metadata": {
        "id": "Qe7a6cb-0PNf",
        "colab": {
          "base_uri": "https://localhost:8080/"
        },
        "outputId": "8237a5b5-42e8-457d-c456-3017259dc968"
      },
      "outputs": [
        {
          "output_type": "stream",
          "name": "stderr",
          "text": [
            "/usr/local/lib/python3.7/dist-packages/ipykernel_launcher.py:3: UserWarning: `Model.fit_generator` is deprecated and will be removed in a future version. Please use `Model.fit`, which supports generators.\n",
            "  This is separate from the ipykernel package so we can avoid doing imports until\n"
          ]
        },
        {
          "output_type": "stream",
          "name": "stdout",
          "text": [
            "Epoch 1/10\n",
            "67/67 [==============================] - ETA: 0s - loss: 6.7836 - categorical_accuracy: 0.3597\n",
            "Epoch 1: val_loss improved from 8.66861 to 6.32765, saving model to model_init_2022-07-1314_21_51.950577/model-00001-6.78364-0.35970-6.32765-0.25000.h5\n",
            "67/67 [==============================] - 59s 882ms/step - loss: 6.7836 - categorical_accuracy: 0.3597 - val_loss: 6.3276 - val_categorical_accuracy: 0.2500 - lr: 0.0100\n",
            "Epoch 2/10\n",
            "67/67 [==============================] - ETA: 0s - loss: 5.8273 - categorical_accuracy: 0.4239\n",
            "Epoch 2: val_loss improved from 6.32765 to 5.86643, saving model to model_init_2022-07-1314_21_51.950577/model-00002-5.82729-0.42388-5.86643-0.32000.h5\n",
            "67/67 [==============================] - 58s 883ms/step - loss: 5.8273 - categorical_accuracy: 0.4239 - val_loss: 5.8664 - val_categorical_accuracy: 0.3200 - lr: 0.0100\n",
            "Epoch 3/10\n",
            "67/67 [==============================] - ETA: 0s - loss: 5.5170 - categorical_accuracy: 0.4881\n",
            "Epoch 3: val_loss did not improve from 5.86643\n",
            "67/67 [==============================] - 58s 880ms/step - loss: 5.5170 - categorical_accuracy: 0.4881 - val_loss: 6.0036 - val_categorical_accuracy: 0.3300 - lr: 0.0100\n",
            "Epoch 4/10\n",
            "67/67 [==============================] - ETA: 0s - loss: 5.3387 - categorical_accuracy: 0.5313\n",
            "Epoch 4: val_loss did not improve from 5.86643\n",
            "\n",
            "Epoch 4: ReduceLROnPlateau reducing learning rate to 0.0009999999776482583.\n",
            "67/67 [==============================] - 58s 878ms/step - loss: 5.3387 - categorical_accuracy: 0.5313 - val_loss: 6.3269 - val_categorical_accuracy: 0.3000 - lr: 0.0100\n",
            "Epoch 5/10\n",
            "67/67 [==============================] - ETA: 0s - loss: 5.1304 - categorical_accuracy: 0.5955\n",
            "Epoch 5: val_loss did not improve from 5.86643\n",
            "67/67 [==============================] - 59s 886ms/step - loss: 5.1304 - categorical_accuracy: 0.5955 - val_loss: 5.9523 - val_categorical_accuracy: 0.3600 - lr: 1.0000e-03\n",
            "Epoch 6/10\n",
            "67/67 [==============================] - ETA: 0s - loss: 4.9831 - categorical_accuracy: 0.6418\n",
            "Epoch 6: val_loss improved from 5.86643 to 5.54212, saving model to model_init_2022-07-1314_21_51.950577/model-00006-4.98310-0.64179-5.54212-0.43000.h5\n",
            "67/67 [==============================] - 58s 876ms/step - loss: 4.9831 - categorical_accuracy: 0.6418 - val_loss: 5.5421 - val_categorical_accuracy: 0.4300 - lr: 1.0000e-03\n",
            "Epoch 7/10\n",
            "67/67 [==============================] - ETA: 0s - loss: 4.9484 - categorical_accuracy: 0.6687\n",
            "Epoch 7: val_loss improved from 5.54212 to 5.33819, saving model to model_init_2022-07-1314_21_51.950577/model-00007-4.94841-0.66866-5.33819-0.51000.h5\n",
            "67/67 [==============================] - 58s 878ms/step - loss: 4.9484 - categorical_accuracy: 0.6687 - val_loss: 5.3382 - val_categorical_accuracy: 0.5100 - lr: 1.0000e-03\n",
            "Epoch 8/10\n",
            "67/67 [==============================] - ETA: 0s - loss: 4.8716 - categorical_accuracy: 0.6970\n",
            "Epoch 8: val_loss improved from 5.33819 to 5.33414, saving model to model_init_2022-07-1314_21_51.950577/model-00008-4.87156-0.69701-5.33414-0.44000.h5\n",
            "67/67 [==============================] - 59s 891ms/step - loss: 4.8716 - categorical_accuracy: 0.6970 - val_loss: 5.3341 - val_categorical_accuracy: 0.4400 - lr: 1.0000e-03\n",
            "Epoch 9/10\n",
            "67/67 [==============================] - ETA: 0s - loss: 4.8456 - categorical_accuracy: 0.7015\n",
            "Epoch 9: val_loss improved from 5.33414 to 5.04361, saving model to model_init_2022-07-1314_21_51.950577/model-00009-4.84561-0.70149-5.04361-0.59000.h5\n",
            "67/67 [==============================] - 59s 888ms/step - loss: 4.8456 - categorical_accuracy: 0.7015 - val_loss: 5.0436 - val_categorical_accuracy: 0.5900 - lr: 1.0000e-03\n",
            "Epoch 10/10\n",
            "67/67 [==============================] - ETA: 0s - loss: 4.8490 - categorical_accuracy: 0.6881\n",
            "Epoch 10: val_loss did not improve from 5.04361\n",
            "67/67 [==============================] - 58s 876ms/step - loss: 4.8490 - categorical_accuracy: 0.6881 - val_loss: 5.1239 - val_categorical_accuracy: 0.5900 - lr: 1.0000e-03\n"
          ]
        }
      ],
      "source": [
        "history = model_3.fit_generator(train_generator, steps_per_epoch=steps_per_epoch, epochs=num_epochs, verbose=1, \n",
        "                    callbacks=callbacks_list, validation_data=val_generator, \n",
        "                    validation_steps=validation_steps, class_weight=None, workers=1, initial_epoch=0)"
      ]
    },
    {
      "cell_type": "code",
      "execution_count": 41,
      "metadata": {
        "id": "RoTPBrMV0UVw",
        "colab": {
          "base_uri": "https://localhost:8080/",
          "height": 483
        },
        "outputId": "aa853e63-3ef4-4875-ff42-ae1fc519c497"
      },
      "outputs": [
        {
          "output_type": "display_data",
          "data": {
            "text/plain": [
              "<Figure size 576x576 with 2 Axes>"
            ],
            "image/png": "[encoded data removed]"
          },
          "metadata": {
            "needs_background": "light"
          }
        }
      ],
      "source": [
        "plot(history)"
      ]
    },
    {
      "cell_type": "code",
      "execution_count": 42,
      "metadata": {
        "id": "Jqyh8FTN0ZBX",
        "colab": {
          "base_uri": "https://localhost:8080/"
        },
        "outputId": "01ce5b0c-a9da-400b-fa82-a02bb04bf642"
      },
      "outputs": [
        {
          "output_type": "stream",
          "name": "stdout",
          "text": [
            "           Model Name  Model Accuracy  Validation Accuracy  Model Loss  \\\n",
            "0      Conv3d_Model_1       67.164177            60.000002  844.355679   \n",
            "0  Conv3d_Model_2_SGD       67.164177            60.000002  844.355679   \n",
            "0  Conv3d_Model_3_cnn       68.805969            58.999997  484.895802   \n",
            "\n",
            "   Validation Loss  \n",
            "0       866.861343  \n",
            "0       866.861343  \n",
            "0       512.385941  \n"
          ]
        }
      ],
      "source": [
        "df1 = model_result(\"Conv3d_Model_3_cnn\",history.history['categorical_accuracy'][-1], history.history['loss'][-1] , history.history['val_categorical_accuracy'][-1], history.history['val_loss'][-1])\n",
        "\n",
        "model_detail_df = pd.concat([model_detail_df,df1])\n",
        "print(model_detail_df.head(20))"
      ]
    },
    {
      "cell_type": "markdown",
      "metadata": {
        "id": "PWv8MXYtxOGl"
      },
      "source": [
        "#**Conv3d Model no:- 4 Add Reducing Filter (2,2,2) & Added few more Hyper Tuning Paramaters**"
      ]
    },
    {
      "cell_type": "code",
      "execution_count": 43,
      "metadata": {
        "colab": {
          "base_uri": "https://localhost:8080/"
        },
        "id": "ywW_y4lMxOGl",
        "outputId": "ed598ded-5248-425e-b460-efe627680ce6"
      },
      "outputs": [
        {
          "output_type": "stream",
          "name": "stdout",
          "text": [
            "Model: \"sequential_3\"\n",
            "_________________________________________________________________\n",
            " Layer (type)                Output Shape              Param #   \n",
            "=================================================================\n",
            " conv3d_14 (Conv3D)          (None, 20, 64, 64, 16)    400       \n",
            "                                                                 \n",
            " batch_normalization_14 (Bat  (None, 20, 64, 64, 16)   64        \n",
            " chNormalization)                                                \n",
            "                                                                 \n",
            " max_pooling3d_10 (MaxPoolin  (None, 10, 32, 32, 16)   0         \n",
            " g3D)                                                            \n",
            "                                                                 \n",
            " conv3d_15 (Conv3D)          (None, 10, 32, 32, 32)    4128      \n",
            "                                                                 \n",
            " batch_normalization_15 (Bat  (None, 10, 32, 32, 32)   128       \n",
            " chNormalization)                                                \n",
            "                                                                 \n",
            " max_pooling3d_11 (MaxPoolin  (None, 5, 16, 16, 32)    0         \n",
            " g3D)                                                            \n",
            "                                                                 \n",
            " dropout_4 (Dropout)         (None, 5, 16, 16, 32)     0         \n",
            "                                                                 \n",
            " conv3d_16 (Conv3D)          (None, 5, 16, 16, 64)     16448     \n",
            "                                                                 \n",
            " batch_normalization_16 (Bat  (None, 5, 16, 16, 64)    256       \n",
            " chNormalization)                                                \n",
            "                                                                 \n",
            " max_pooling3d_12 (MaxPoolin  (None, 2, 8, 8, 64)      0         \n",
            " g3D)                                                            \n",
            "                                                                 \n",
            " dropout_5 (Dropout)         (None, 2, 8, 8, 64)       0         \n",
            "                                                                 \n",
            " conv3d_17 (Conv3D)          (None, 2, 8, 8, 128)      65664     \n",
            "                                                                 \n",
            " batch_normalization_17 (Bat  (None, 2, 8, 8, 128)     512       \n",
            " chNormalization)                                                \n",
            "                                                                 \n",
            " max_pooling3d_13 (MaxPoolin  (None, 1, 4, 4, 128)     0         \n",
            " g3D)                                                            \n",
            "                                                                 \n",
            " flatten_3 (Flatten)         (None, 2048)              0         \n",
            "                                                                 \n",
            " dense_6 (Dense)             (None, 512)               1049088   \n",
            "                                                                 \n",
            " dropout_6 (Dropout)         (None, 512)               0         \n",
            "                                                                 \n",
            " dense_7 (Dense)             (None, 5)                 2565      \n",
            "                                                                 \n",
            "=================================================================\n",
            "Total params: 1,139,253\n",
            "Trainable params: 1,138,773\n",
            "Non-trainable params: 480\n",
            "_________________________________________________________________\n",
            "None\n"
          ]
        }
      ],
      "source": [
        "#Here we are going to try Reduce the filter and add more hypertuning with 10 epochs\n",
        "\n",
        "#define model\n",
        "model_4 = Sequential()\n",
        "\n",
        "#First CNN Layer\n",
        "model_4.add(Conv3D(16, kernel_size=(2,2,2), padding='same', activation='relu',input_shape = (20,64,64,3)))\n",
        "model_4.add(BatchNormalization())\n",
        "model_4.add(MaxPooling3D(pool_size=(2, 2, 2)))\n",
        "\n",
        "#Second CNN Layer\n",
        "model_4.add(Conv3D(32, kernel_size=(2,2,2), padding='same', activation='relu'))\n",
        "model_4.add(BatchNormalization())\n",
        "model_4.add(MaxPooling3D(pool_size=(2, 2, 2)))\n",
        "model_4.add(Dropout(0.25))\n",
        "\n",
        "#Third CNN Layer\n",
        "model_4.add(Conv3D(64, kernel_size=(2,2,2), padding='same', activation='relu'))\n",
        "model_4.add(BatchNormalization())\n",
        "model_4.add(MaxPooling3D(pool_size=(2, 2, 2)))\n",
        "model_4.add(Dropout(0.25))\n",
        "\n",
        "#Fourth CNN Layer\n",
        "model_4.add(Conv3D(128, kernel_size=(2,2,2), padding='same', activation='relu'))\n",
        "model_4.add(BatchNormalization())\n",
        "model_4.add(MaxPooling3D(pool_size=(2, 2, 2)))\n",
        "\n",
        "#Flatten Layer\n",
        "model_4.add(Flatten())\n",
        "\n",
        "#Dense Layer\n",
        "model_4.add(Dense(512,kernel_regularizer=l2(0.01),activation='relu'))\n",
        "model_4.add(Dropout(0.50))\n",
        "\n",
        "#softmax Layer\n",
        "model_4.add(Dense(5, activation = 'softmax'))\n",
        "\n",
        "#adam optimiser\n",
        "optimiser = 'adam'\n",
        "model_4.compile(optimizer=optimiser, loss='categorical_crossentropy', metrics=['categorical_accuracy'])\n",
        "print (model_4.summary())"
      ]
    },
    {
      "cell_type": "markdown",
      "metadata": {
        "id": "xZoBguFcXwHD"
      },
      "source": [
        "**Train our model:-4**"
      ]
    },
    {
      "cell_type": "code",
      "execution_count": 44,
      "metadata": {
        "colab": {
          "base_uri": "https://localhost:8080/"
        },
        "id": "fvUATAKLxOGm",
        "outputId": "ed07ae15-da50-4107-d820-71dd502b42f2",
        "scrolled": false
      },
      "outputs": [
        {
          "output_type": "stream",
          "name": "stderr",
          "text": [
            "/usr/local/lib/python3.7/dist-packages/ipykernel_launcher.py:3: UserWarning: `Model.fit_generator` is deprecated and will be removed in a future version. Please use `Model.fit`, which supports generators.\n",
            "  This is separate from the ipykernel package so we can avoid doing imports until\n"
          ]
        },
        {
          "output_type": "stream",
          "name": "stdout",
          "text": [
            "Epoch 1/10\n",
            "67/67 [==============================] - ETA: 0s - loss: 11.0689 - categorical_accuracy: 0.3373\n",
            "Epoch 1: val_loss did not improve from 5.04361\n",
            "67/67 [==============================] - 60s 886ms/step - loss: 11.0689 - categorical_accuracy: 0.3373 - val_loss: 9.1008 - val_categorical_accuracy: 0.1600 - lr: 0.0010\n",
            "Epoch 2/10\n",
            "67/67 [==============================] - ETA: 0s - loss: 6.6970 - categorical_accuracy: 0.4567\n",
            "Epoch 2: val_loss did not improve from 5.04361\n",
            "67/67 [==============================] - 58s 881ms/step - loss: 6.6970 - categorical_accuracy: 0.4567 - val_loss: 10.1307 - val_categorical_accuracy: 0.2000 - lr: 0.0010\n",
            "Epoch 3/10\n",
            "67/67 [==============================] - ETA: 0s - loss: 5.4834 - categorical_accuracy: 0.4537\n",
            "Epoch 3: val_loss did not improve from 5.04361\n",
            "\n",
            "Epoch 3: ReduceLROnPlateau reducing learning rate to 0.00010000000474974513.\n",
            "67/67 [==============================] - 58s 871ms/step - loss: 5.4834 - categorical_accuracy: 0.4537 - val_loss: 9.9631 - val_categorical_accuracy: 0.2100 - lr: 0.0010\n",
            "Epoch 4/10\n",
            "67/67 [==============================] - ETA: 0s - loss: 4.7908 - categorical_accuracy: 0.5463\n",
            "Epoch 4: val_loss did not improve from 5.04361\n",
            "67/67 [==============================] - 58s 874ms/step - loss: 4.7908 - categorical_accuracy: 0.5463 - val_loss: 10.7848 - val_categorical_accuracy: 0.2400 - lr: 1.0000e-04\n",
            "Epoch 5/10\n",
            "67/67 [==============================] - ETA: 0s - loss: 4.5820 - categorical_accuracy: 0.5881\n",
            "Epoch 5: val_loss did not improve from 5.04361\n",
            "\n",
            "Epoch 5: ReduceLROnPlateau reducing learning rate to 1.0000000474974514e-05.\n",
            "67/67 [==============================] - 58s 875ms/step - loss: 4.5820 - categorical_accuracy: 0.5881 - val_loss: 10.0903 - val_categorical_accuracy: 0.2100 - lr: 1.0000e-04\n",
            "Epoch 6/10\n",
            "67/67 [==============================] - ETA: 0s - loss: 4.4570 - categorical_accuracy: 0.6269\n",
            "Epoch 6: val_loss did not improve from 5.04361\n",
            "67/67 [==============================] - 58s 874ms/step - loss: 4.4570 - categorical_accuracy: 0.6269 - val_loss: 8.5888 - val_categorical_accuracy: 0.2600 - lr: 1.0000e-05\n",
            "Epoch 7/10\n",
            "67/67 [==============================] - ETA: 0s - loss: 4.4669 - categorical_accuracy: 0.6015\n",
            "Epoch 7: val_loss did not improve from 5.04361\n",
            "67/67 [==============================] - 57s 864ms/step - loss: 4.4669 - categorical_accuracy: 0.6015 - val_loss: 6.9917 - val_categorical_accuracy: 0.2400 - lr: 1.0000e-05\n",
            "Epoch 8/10\n",
            "67/67 [==============================] - ETA: 0s - loss: 4.4261 - categorical_accuracy: 0.6299\n",
            "Epoch 8: val_loss did not improve from 5.04361\n",
            "67/67 [==============================] - 58s 876ms/step - loss: 4.4261 - categorical_accuracy: 0.6299 - val_loss: 5.6729 - val_categorical_accuracy: 0.3000 - lr: 1.0000e-05\n",
            "Epoch 9/10\n",
            "67/67 [==============================] - ETA: 0s - loss: 4.4402 - categorical_accuracy: 0.6463\n",
            "Epoch 9: val_loss did not improve from 5.04361\n",
            "67/67 [==============================] - 57s 870ms/step - loss: 4.4402 - categorical_accuracy: 0.6463 - val_loss: 5.2063 - val_categorical_accuracy: 0.3300 - lr: 1.0000e-05\n",
            "Epoch 10/10\n",
            "67/67 [==============================] - ETA: 0s - loss: 4.4114 - categorical_accuracy: 0.6179\n",
            "Epoch 10: val_loss improved from 5.04361 to 4.82717, saving model to model_init_2022-07-1314_21_51.950577/model-00010-4.41136-0.61791-4.82717-0.44000.h5\n",
            "67/67 [==============================] - 57s 858ms/step - loss: 4.4114 - categorical_accuracy: 0.6179 - val_loss: 4.8272 - val_categorical_accuracy: 0.4400 - lr: 1.0000e-05\n"
          ]
        }
      ],
      "source": [
        "history = model_4.fit_generator(train_generator, steps_per_epoch=steps_per_epoch, epochs=num_epochs, verbose=1, \n",
        "                    callbacks=callbacks_list, validation_data=val_generator, \n",
        "                    validation_steps=validation_steps, class_weight=None, workers=1, initial_epoch=0)"
      ]
    },
    {
      "cell_type": "code",
      "execution_count": 45,
      "metadata": {
        "colab": {
          "base_uri": "https://localhost:8080/",
          "height": 483
        },
        "id": "hTY7aCV2xOGm",
        "outputId": "87d39085-b20e-4ec4-931b-7ea244707ad8"
      },
      "outputs": [
        {
          "output_type": "display_data",
          "data": {
            "text/plain": [
              "<Figure size 576x576 with 2 Axes>"
            ],
            "image/png": "[encoded data removed]"
          },
          "metadata": {
            "needs_background": "light"
          }
        }
      ],
      "source": [
        "plot(history)"
      ]
    },
    {
      "cell_type": "code",
      "execution_count": 46,
      "metadata": {
        "colab": {
          "base_uri": "https://localhost:8080/"
        },
        "id": "UgBgTPKPxOGm",
        "outputId": "6a22392f-d1c6-42a6-b3a5-978a038ceb95"
      },
      "outputs": [
        {
          "output_type": "stream",
          "name": "stdout",
          "text": [
            "              Model Name  Model Accuracy  Validation Accuracy  Model Loss  \\\n",
            "0         Conv3d_Model_1       67.164177            60.000002  844.355679   \n",
            "0     Conv3d_Model_2_SGD       67.164177            60.000002  844.355679   \n",
            "0     Conv3d_Model_3_cnn       68.805969            58.999997  484.895802   \n",
            "0  Conv3d_Model_4_filter       61.791044            44.000000  441.135550   \n",
            "\n",
            "   Validation Loss  \n",
            "0       866.861343  \n",
            "0       866.861343  \n",
            "0       512.385941  \n",
            "0       482.717371  \n"
          ]
        }
      ],
      "source": [
        "df1 = model_result(\"Conv3d_Model_4_filter\",history.history['categorical_accuracy'][-1], history.history['loss'][-1] , history.history['val_categorical_accuracy'][-1], history.history['val_loss'][-1])\n",
        "\n",
        "model_detail_df = pd.concat([model_detail_df,df1])\n",
        "print(model_detail_df.head(20))"
      ]
    },
    {
      "cell_type": "markdown",
      "metadata": {
        "id": "fmlDbLy__Nr7"
      },
      "source": [
        "#**Conv3d Model no:- 5 Add more dense layer**"
      ]
    },
    {
      "cell_type": "code",
      "execution_count": 47,
      "metadata": {
        "colab": {
          "base_uri": "https://localhost:8080/"
        },
        "id": "6vQFj2nvAKg7",
        "outputId": "0c17a7da-822c-4183-d41a-b6853b00c6d8"
      },
      "outputs": [
        {
          "output_type": "stream",
          "name": "stdout",
          "text": [
            "Model: \"sequential_4\"\n",
            "_________________________________________________________________\n",
            " Layer (type)                Output Shape              Param #   \n",
            "=================================================================\n",
            " conv3d_18 (Conv3D)          (None, 20, 64, 64, 16)    400       \n",
            "                                                                 \n",
            " batch_normalization_18 (Bat  (None, 20, 64, 64, 16)   64        \n",
            " chNormalization)                                                \n",
            "                                                                 \n",
            " max_pooling3d_14 (MaxPoolin  (None, 10, 32, 32, 16)   0         \n",
            " g3D)                                                            \n",
            "                                                                 \n",
            " conv3d_19 (Conv3D)          (None, 10, 32, 32, 32)    4128      \n",
            "                                                                 \n",
            " batch_normalization_19 (Bat  (None, 10, 32, 32, 32)   128       \n",
            " chNormalization)                                                \n",
            "                                                                 \n",
            " max_pooling3d_15 (MaxPoolin  (None, 5, 16, 16, 32)    0         \n",
            " g3D)                                                            \n",
            "                                                                 \n",
            " dropout_7 (Dropout)         (None, 5, 16, 16, 32)     0         \n",
            "                                                                 \n",
            " conv3d_20 (Conv3D)          (None, 5, 16, 16, 64)     16448     \n",
            "                                                                 \n",
            " batch_normalization_20 (Bat  (None, 5, 16, 16, 64)    256       \n",
            " chNormalization)                                                \n",
            "                                                                 \n",
            " max_pooling3d_16 (MaxPoolin  (None, 2, 8, 8, 64)      0         \n",
            " g3D)                                                            \n",
            "                                                                 \n",
            " dropout_8 (Dropout)         (None, 2, 8, 8, 64)       0         \n",
            "                                                                 \n",
            " conv3d_21 (Conv3D)          (None, 2, 8, 8, 128)      65664     \n",
            "                                                                 \n",
            " batch_normalization_21 (Bat  (None, 2, 8, 8, 128)     512       \n",
            " chNormalization)                                                \n",
            "                                                                 \n",
            " max_pooling3d_17 (MaxPoolin  (None, 1, 4, 4, 128)     0         \n",
            " g3D)                                                            \n",
            "                                                                 \n",
            " flatten_4 (Flatten)         (None, 2048)              0         \n",
            "                                                                 \n",
            " dense_8 (Dense)             (None, 256)               524544    \n",
            "                                                                 \n",
            " dropout_9 (Dropout)         (None, 256)               0         \n",
            "                                                                 \n",
            " dense_9 (Dense)             (None, 512)               131584    \n",
            "                                                                 \n",
            " dropout_10 (Dropout)        (None, 512)               0         \n",
            "                                                                 \n",
            " dense_10 (Dense)            (None, 5)                 2565      \n",
            "                                                                 \n",
            "=================================================================\n",
            "Total params: 746,293\n",
            "Trainable params: 745,813\n",
            "Non-trainable params: 480\n",
            "_________________________________________________________________\n",
            "None\n"
          ]
        }
      ],
      "source": [
        "#Here we are going to try Add more dense with 10 epochs\n",
        "\n",
        "#define model\n",
        "model_5 = Sequential()\n",
        "\n",
        "#First CNN Layer\n",
        "model_5.add(Conv3D(16, kernel_size=(2,2,2), padding='same', activation='relu',input_shape = (20,64,64,3)))\n",
        "model_5.add(BatchNormalization())\n",
        "model_5.add(MaxPooling3D(pool_size=(2, 2, 2)))\n",
        "\n",
        "#Second CNN Layer\n",
        "model_5.add(Conv3D(32, kernel_size=(2,2,2), padding='same', activation='relu'))\n",
        "model_5.add(BatchNormalization())\n",
        "model_5.add(MaxPooling3D(pool_size=(2, 2, 2)))\n",
        "model_5.add(Dropout(0.25))\n",
        "\n",
        "#Third CNN Layer\n",
        "model_5.add(Conv3D(64, kernel_size=(2,2,2), padding='same', activation='relu'))\n",
        "model_5.add(BatchNormalization())\n",
        "model_5.add(MaxPooling3D(pool_size=(2, 2, 2)))\n",
        "model_5.add(Dropout(0.25))\n",
        "\n",
        "#Fourth CNN Layer\n",
        "model_5.add(Conv3D(128, kernel_size=(2,2,2), padding='same', activation='relu'))\n",
        "model_5.add(BatchNormalization())\n",
        "model_5.add(MaxPooling3D(pool_size=(2, 2, 2)))\n",
        "\n",
        "#Flatten Layer\n",
        "model_5.add(Flatten())\n",
        "\n",
        "#Dense Layer\n",
        "model_5.add(Dense(256,kernel_regularizer=l2(0.01),activation='relu'))\n",
        "model_5.add(Dropout(0.50))\n",
        "model_5.add(Dense(512,kernel_regularizer=l2(0.01),activation='relu'))\n",
        "model_5.add(Dropout(0.50))\n",
        "\n",
        "#softmax Layer\n",
        "model_5.add(Dense(5, activation = 'softmax'))\n",
        "\n",
        "#adam optimiser\n",
        "optimiser = 'adam'\n",
        "model_5.compile(optimizer=optimiser, loss='categorical_crossentropy', metrics=['categorical_accuracy'])\n",
        "print (model_5.summary())"
      ]
    },
    {
      "cell_type": "markdown",
      "metadata": {
        "id": "Eny372BoX0PD"
      },
      "source": [
        "**Train our model:-5**"
      ]
    },
    {
      "cell_type": "code",
      "execution_count": 48,
      "metadata": {
        "colab": {
          "base_uri": "https://localhost:8080/"
        },
        "id": "34ourAIAEZi-",
        "outputId": "f50f552c-28da-4462-b87d-b53fe8646d78"
      },
      "outputs": [
        {
          "output_type": "stream",
          "name": "stderr",
          "text": [
            "/usr/local/lib/python3.7/dist-packages/ipykernel_launcher.py:3: UserWarning: `Model.fit_generator` is deprecated and will be removed in a future version. Please use `Model.fit`, which supports generators.\n",
            "  This is separate from the ipykernel package so we can avoid doing imports until\n"
          ]
        },
        {
          "output_type": "stream",
          "name": "stdout",
          "text": [
            "Epoch 1/10\n",
            "67/67 [==============================] - ETA: 0s - loss: 9.3608 - categorical_accuracy: 0.2463\n",
            "Epoch 1: val_loss did not improve from 4.82717\n",
            "67/67 [==============================] - 59s 874ms/step - loss: 9.3608 - categorical_accuracy: 0.2463 - val_loss: 9.7546 - val_categorical_accuracy: 0.2100 - lr: 0.0010\n",
            "Epoch 2/10\n",
            "67/67 [==============================] - ETA: 0s - loss: 6.2531 - categorical_accuracy: 0.2955\n",
            "Epoch 2: val_loss did not improve from 4.82717\n",
            "67/67 [==============================] - 57s 865ms/step - loss: 6.2531 - categorical_accuracy: 0.2955 - val_loss: 11.7305 - val_categorical_accuracy: 0.2400 - lr: 0.0010\n",
            "Epoch 3/10\n",
            "67/67 [==============================] - ETA: 0s - loss: 5.2566 - categorical_accuracy: 0.3015\n",
            "Epoch 3: val_loss did not improve from 4.82717\n",
            "\n",
            "Epoch 3: ReduceLROnPlateau reducing learning rate to 0.00010000000474974513.\n",
            "67/67 [==============================] - 57s 868ms/step - loss: 5.2566 - categorical_accuracy: 0.3015 - val_loss: 13.5606 - val_categorical_accuracy: 0.1900 - lr: 0.0010\n",
            "Epoch 4/10\n",
            "67/67 [==============================] - ETA: 0s - loss: 4.7278 - categorical_accuracy: 0.3448\n",
            "Epoch 4: val_loss did not improve from 4.82717\n",
            "67/67 [==============================] - 58s 874ms/step - loss: 4.7278 - categorical_accuracy: 0.3448 - val_loss: 13.9111 - val_categorical_accuracy: 0.2100 - lr: 1.0000e-04\n",
            "Epoch 5/10\n",
            "67/67 [==============================] - ETA: 0s - loss: 4.6436 - categorical_accuracy: 0.3522\n",
            "Epoch 5: val_loss did not improve from 4.82717\n",
            "\n",
            "Epoch 5: ReduceLROnPlateau reducing learning rate to 1.0000000474974514e-05.\n",
            "67/67 [==============================] - 58s 875ms/step - loss: 4.6436 - categorical_accuracy: 0.3522 - val_loss: 11.8625 - val_categorical_accuracy: 0.2300 - lr: 1.0000e-04\n",
            "Epoch 6/10\n",
            "67/67 [==============================] - ETA: 0s - loss: 4.5335 - categorical_accuracy: 0.3925\n",
            "Epoch 6: val_loss did not improve from 4.82717\n",
            "67/67 [==============================] - 56s 855ms/step - loss: 4.5335 - categorical_accuracy: 0.3925 - val_loss: 10.4788 - val_categorical_accuracy: 0.2200 - lr: 1.0000e-05\n",
            "Epoch 7/10\n",
            "67/67 [==============================] - ETA: 0s - loss: 4.4928 - categorical_accuracy: 0.3925\n",
            "Epoch 7: val_loss did not improve from 4.82717\n",
            "67/67 [==============================] - 58s 873ms/step - loss: 4.4928 - categorical_accuracy: 0.3925 - val_loss: 7.7394 - val_categorical_accuracy: 0.2200 - lr: 1.0000e-05\n",
            "Epoch 8/10\n",
            "67/67 [==============================] - ETA: 0s - loss: 4.5087 - categorical_accuracy: 0.3955\n",
            "Epoch 8: val_loss did not improve from 4.82717\n",
            "67/67 [==============================] - 57s 868ms/step - loss: 4.5087 - categorical_accuracy: 0.3955 - val_loss: 6.3169 - val_categorical_accuracy: 0.2500 - lr: 1.0000e-05\n",
            "Epoch 9/10\n",
            "67/67 [==============================] - ETA: 0s - loss: 4.5031 - categorical_accuracy: 0.3896\n",
            "Epoch 9: val_loss did not improve from 4.82717\n",
            "67/67 [==============================] - 56s 850ms/step - loss: 4.5031 - categorical_accuracy: 0.3896 - val_loss: 5.2840 - val_categorical_accuracy: 0.3000 - lr: 1.0000e-05\n",
            "Epoch 10/10\n",
            "67/67 [==============================] - ETA: 0s - loss: 4.4510 - categorical_accuracy: 0.3985\n",
            "Epoch 10: val_loss did not improve from 4.82717\n",
            "67/67 [==============================] - 58s 879ms/step - loss: 4.4510 - categorical_accuracy: 0.3985 - val_loss: 4.8296 - val_categorical_accuracy: 0.3700 - lr: 1.0000e-05\n"
          ]
        }
      ],
      "source": [
        "history = model_5.fit_generator(train_generator, steps_per_epoch=steps_per_epoch, epochs=num_epochs, verbose=1, \n",
        "                    callbacks=callbacks_list, validation_data=val_generator, \n",
        "                    validation_steps=validation_steps, class_weight=None, workers=1, initial_epoch=0)"
      ]
    },
    {
      "cell_type": "code",
      "execution_count": 49,
      "metadata": {
        "colab": {
          "base_uri": "https://localhost:8080/",
          "height": 483
        },
        "id": "sG5iVxVAEbMF",
        "outputId": "52784c33-0bd4-4a24-9991-d5206b128407"
      },
      "outputs": [
        {
          "output_type": "display_data",
          "data": {
            "text/plain": [
              "<Figure size 576x576 with 2 Axes>"
            ],
            "image/png": "[encoded data removed]"
          },
          "metadata": {
            "needs_background": "light"
          }
        }
      ],
      "source": [
        "plot(history)"
      ]
    },
    {
      "cell_type": "code",
      "execution_count": 50,
      "metadata": {
        "colab": {
          "base_uri": "https://localhost:8080/"
        },
        "id": "Tl7gXKojEcE6",
        "outputId": "db24272f-d61a-44da-da64-d21f0f29adfc"
      },
      "outputs": [
        {
          "output_type": "stream",
          "name": "stdout",
          "text": [
            "              Model Name  Model Accuracy  Validation Accuracy  Model Loss  \\\n",
            "0         Conv3d_Model_1       67.164177            60.000002  844.355679   \n",
            "0     Conv3d_Model_2_SGD       67.164177            60.000002  844.355679   \n",
            "0     Conv3d_Model_3_cnn       68.805969            58.999997  484.895802   \n",
            "0  Conv3d_Model_4_filter       61.791044            44.000000  441.135550   \n",
            "0  Conv3d_Model_5_Tuning       39.850748            37.000000  445.098066   \n",
            "\n",
            "   Validation Loss  \n",
            "0       866.861343  \n",
            "0       866.861343  \n",
            "0       512.385941  \n",
            "0       482.717371  \n",
            "0       482.962847  \n"
          ]
        }
      ],
      "source": [
        "df1 = model_result(\"Conv3d_Model_5_Tuning\",history.history['categorical_accuracy'][-1], history.history['loss'][-1] , history.history['val_categorical_accuracy'][-1], history.history['val_loss'][-1])\n",
        "\n",
        "model_detail_df = pd.concat([model_detail_df,df1])\n",
        "print(model_detail_df.head(20))"
      ]
    },
    {
      "cell_type": "markdown",
      "metadata": {
        "id": "p72pvVgfxOGp"
      },
      "source": [
        "#**Model no:-6 CNN + SimpleRNN**"
      ]
    },
    {
      "cell_type": "code",
      "execution_count": 51,
      "metadata": {
        "id": "uZKqTKMWxOGp"
      },
      "outputs": [],
      "source": [
        "input_shape = (frame, rows, cols, channel_color)"
      ]
    },
    {
      "cell_type": "code",
      "execution_count": 52,
      "metadata": {
        "colab": {
          "base_uri": "https://localhost:8080/"
        },
        "id": "9nWswHZxxOGp",
        "outputId": "f3c1a59d-7fad-420f-b8b3-3a6399444dba"
      },
      "outputs": [
        {
          "output_type": "stream",
          "name": "stdout",
          "text": [
            "Model: \"sequential_5\"\n",
            "_________________________________________________________________\n",
            " Layer (type)                Output Shape              Param #   \n",
            "=================================================================\n",
            " time_distributed (TimeDistr  (None, 20, 64, 64, 16)   448       \n",
            " ibuted)                                                         \n",
            "                                                                 \n",
            " time_distributed_1 (TimeDis  (None, 20, 64, 64, 16)   64        \n",
            " tributed)                                                       \n",
            "                                                                 \n",
            " time_distributed_2 (TimeDis  (None, 20, 32, 32, 16)   0         \n",
            " tributed)                                                       \n",
            "                                                                 \n",
            " time_distributed_3 (TimeDis  (None, 20, 32, 32, 32)   4640      \n",
            " tributed)                                                       \n",
            "                                                                 \n",
            " time_distributed_4 (TimeDis  (None, 20, 32, 32, 32)   128       \n",
            " tributed)                                                       \n",
            "                                                                 \n",
            " time_distributed_5 (TimeDis  (None, 20, 16, 16, 32)   0         \n",
            " tributed)                                                       \n",
            "                                                                 \n",
            " time_distributed_6 (TimeDis  (None, 20, 16, 16, 64)   18496     \n",
            " tributed)                                                       \n",
            "                                                                 \n",
            " time_distributed_7 (TimeDis  (None, 20, 16, 16, 64)   256       \n",
            " tributed)                                                       \n",
            "                                                                 \n",
            " time_distributed_8 (TimeDis  (None, 20, 8, 8, 64)     0         \n",
            " tributed)                                                       \n",
            "                                                                 \n",
            " time_distributed_9 (TimeDis  (None, 20, 8, 8, 128)    73856     \n",
            " tributed)                                                       \n",
            "                                                                 \n",
            " time_distributed_10 (TimeDi  (None, 20, 8, 8, 128)    512       \n",
            " stributed)                                                      \n",
            "                                                                 \n",
            " time_distributed_11 (TimeDi  (None, 20, 4, 4, 128)    0         \n",
            " stributed)                                                      \n",
            "                                                                 \n",
            " time_distributed_12 (TimeDi  (None, 20, 2048)         0         \n",
            " stributed)                                                      \n",
            "                                                                 \n",
            " simple_rnn (SimpleRNN)      (None, 256)               590080    \n",
            "                                                                 \n",
            " dense_11 (Dense)            (None, 256)               65792     \n",
            "                                                                 \n",
            " dropout_11 (Dropout)        (None, 256)               0         \n",
            "                                                                 \n",
            " dense_12 (Dense)            (None, 5)                 1285      \n",
            "                                                                 \n",
            "=================================================================\n",
            "Total params: 755,557\n",
            "Trainable params: 755,077\n",
            "Non-trainable params: 480\n",
            "_________________________________________________________________\n",
            "None\n"
          ]
        }
      ],
      "source": [
        "#Here we are going to try CNN + SimpleRNN\n",
        "\n",
        "#define model\n",
        "model_6 = Sequential()\n",
        "\n",
        "#First CNN Layer\n",
        "model_6.add(TimeDistributed(Conv2D(16, (3, 3) , padding='same', activation='relu'),input_shape = input_shape))\n",
        "model_6.add(TimeDistributed(BatchNormalization()))\n",
        "model_6.add(TimeDistributed(MaxPooling2D((2, 2))))\n",
        "\n",
        "#Second CNN Layer\n",
        "model_6.add(TimeDistributed(Conv2D(32, (3, 3) , padding='same', activation='relu')))\n",
        "model_6.add(TimeDistributed(BatchNormalization()))\n",
        "model_6.add(TimeDistributed(MaxPooling2D((2, 2))))\n",
        "\n",
        "#Third CNN Layer\n",
        "model_6.add(TimeDistributed(Conv2D(64, (3, 3) , padding='same', activation='relu')))\n",
        "model_6.add(TimeDistributed(BatchNormalization()))\n",
        "model_6.add(TimeDistributed(MaxPooling2D((2, 2))))\n",
        "\n",
        "#Fourth CNN Layer\n",
        "model_6.add(TimeDistributed(Conv2D(128, (3, 3) , padding='same', activation='relu')))\n",
        "model_6.add(TimeDistributed(BatchNormalization()))\n",
        "model_6.add(TimeDistributed(MaxPooling2D((2, 2))))\n",
        "\n",
        "#Flatten Layer\n",
        "model_6.add(TimeDistributed(Flatten()))\n",
        "\n",
        "#SimpleRNN Layer\n",
        "model_6.add(SimpleRNN(256))\n",
        "\n",
        "#Dense Layer\n",
        "model_6.add(Dense(256,activation='relu'))\n",
        "model_6.add(Dropout(0.3))\n",
        "\n",
        "model_6.add(Dense(5, activation='softmax'))\n",
        "\n",
        "#First CNN Layer\n",
        "optimiser = 'adam'\n",
        "model_6.compile(optimizer=optimiser, loss='categorical_crossentropy', metrics=['categorical_accuracy'])\n",
        "print (model_6.summary())"
      ]
    },
    {
      "cell_type": "markdown",
      "metadata": {
        "id": "H7fVnI4rX497"
      },
      "source": [
        "**Train our model:-6**"
      ]
    },
    {
      "cell_type": "code",
      "execution_count": 53,
      "metadata": {
        "colab": {
          "base_uri": "https://localhost:8080/"
        },
        "id": "zkIrw5MSxOGq",
        "outputId": "d09ea845-eaca-4095-95f6-06239e4a2221"
      },
      "outputs": [
        {
          "output_type": "stream",
          "name": "stderr",
          "text": [
            "/usr/local/lib/python3.7/dist-packages/ipykernel_launcher.py:3: UserWarning: `Model.fit_generator` is deprecated and will be removed in a future version. Please use `Model.fit`, which supports generators.\n",
            "  This is separate from the ipykernel package so we can avoid doing imports until\n"
          ]
        },
        {
          "output_type": "stream",
          "name": "stdout",
          "text": [
            "Epoch 1/10\n",
            "67/67 [==============================] - ETA: 0s - loss: 1.7001 - categorical_accuracy: 0.3149\n",
            "Epoch 1: val_loss improved from 4.82717 to 2.65546, saving model to model_init_2022-07-1314_21_51.950577/model-00001-1.70008-0.31493-2.65546-0.21000.h5\n",
            "67/67 [==============================] - 60s 876ms/step - loss: 1.7001 - categorical_accuracy: 0.3149 - val_loss: 2.6555 - val_categorical_accuracy: 0.2100 - lr: 0.0010\n",
            "Epoch 2/10\n",
            "67/67 [==============================] - ETA: 0s - loss: 1.3382 - categorical_accuracy: 0.4701\n",
            "Epoch 2: val_loss did not improve from 2.65546\n",
            "67/67 [==============================] - 58s 871ms/step - loss: 1.3382 - categorical_accuracy: 0.4701 - val_loss: 3.1477 - val_categorical_accuracy: 0.2000 - lr: 0.0010\n",
            "Epoch 3/10\n",
            "67/67 [==============================] - ETA: 0s - loss: 1.1707 - categorical_accuracy: 0.5433\n",
            "Epoch 3: val_loss improved from 2.65546 to 2.23695, saving model to model_init_2022-07-1314_21_51.950577/model-00003-1.17074-0.54328-2.23695-0.26000.h5\n",
            "67/67 [==============================] - 58s 877ms/step - loss: 1.1707 - categorical_accuracy: 0.5433 - val_loss: 2.2370 - val_categorical_accuracy: 0.2600 - lr: 0.0010\n",
            "Epoch 4/10\n",
            "67/67 [==============================] - ETA: 0s - loss: 1.0819 - categorical_accuracy: 0.5746\n",
            "Epoch 4: val_loss did not improve from 2.23695\n",
            "67/67 [==============================] - 58s 883ms/step - loss: 1.0819 - categorical_accuracy: 0.5746 - val_loss: 2.8612 - val_categorical_accuracy: 0.1800 - lr: 0.0010\n",
            "Epoch 5/10\n",
            "67/67 [==============================] - ETA: 0s - loss: 0.9127 - categorical_accuracy: 0.6687\n",
            "Epoch 5: val_loss improved from 2.23695 to 1.90289, saving model to model_init_2022-07-1314_21_51.950577/model-00005-0.91269-0.66866-1.90289-0.27000.h5\n",
            "67/67 [==============================] - 58s 872ms/step - loss: 0.9127 - categorical_accuracy: 0.6687 - val_loss: 1.9029 - val_categorical_accuracy: 0.2700 - lr: 0.0010\n",
            "Epoch 6/10\n",
            "67/67 [==============================] - ETA: 0s - loss: 0.8269 - categorical_accuracy: 0.6716\n",
            "Epoch 6: val_loss did not improve from 1.90289\n",
            "67/67 [==============================] - 58s 871ms/step - loss: 0.8269 - categorical_accuracy: 0.6716 - val_loss: 2.4338 - val_categorical_accuracy: 0.3100 - lr: 0.0010\n",
            "Epoch 7/10\n",
            "67/67 [==============================] - ETA: 0s - loss: 0.6521 - categorical_accuracy: 0.7537\n",
            "Epoch 7: val_loss did not improve from 1.90289\n",
            "\n",
            "Epoch 7: ReduceLROnPlateau reducing learning rate to 0.00010000000474974513.\n",
            "67/67 [==============================] - 58s 875ms/step - loss: 0.6521 - categorical_accuracy: 0.7537 - val_loss: 1.9210 - val_categorical_accuracy: 0.4600 - lr: 0.0010\n",
            "Epoch 8/10\n",
            "67/67 [==============================] - ETA: 0s - loss: 0.4743 - categorical_accuracy: 0.8403\n",
            "Epoch 8: val_loss improved from 1.90289 to 1.87398, saving model to model_init_2022-07-1314_21_51.950577/model-00008-0.47432-0.84030-1.87398-0.45000.h5\n",
            "67/67 [==============================] - 58s 878ms/step - loss: 0.4743 - categorical_accuracy: 0.8403 - val_loss: 1.8740 - val_categorical_accuracy: 0.4500 - lr: 1.0000e-04\n",
            "Epoch 9/10\n",
            "67/67 [==============================] - ETA: 0s - loss: 0.3051 - categorical_accuracy: 0.9045\n",
            "Epoch 9: val_loss improved from 1.87398 to 1.43274, saving model to model_init_2022-07-1314_21_51.950577/model-00009-0.30514-0.90448-1.43274-0.59000.h5\n",
            "67/67 [==============================] - 58s 883ms/step - loss: 0.3051 - categorical_accuracy: 0.9045 - val_loss: 1.4327 - val_categorical_accuracy: 0.5900 - lr: 1.0000e-04\n",
            "Epoch 10/10\n",
            "67/67 [==============================] - ETA: 0s - loss: 0.2386 - categorical_accuracy: 0.9269\n",
            "Epoch 10: val_loss improved from 1.43274 to 1.19378, saving model to model_init_2022-07-1314_21_51.950577/model-00010-0.23862-0.92687-1.19378-0.60000.h5\n",
            "67/67 [==============================] - 58s 874ms/step - loss: 0.2386 - categorical_accuracy: 0.9269 - val_loss: 1.1938 - val_categorical_accuracy: 0.6000 - lr: 1.0000e-04\n"
          ]
        }
      ],
      "source": [
        "history = model_6.fit_generator(train_generator, steps_per_epoch=steps_per_epoch, epochs=num_epochs, verbose=1, \n",
        "                    callbacks=callbacks_list, validation_data=val_generator, \n",
        "                    validation_steps=validation_steps, class_weight=None, workers=1, initial_epoch=0)"
      ]
    },
    {
      "cell_type": "code",
      "execution_count": 54,
      "metadata": {
        "colab": {
          "base_uri": "https://localhost:8080/",
          "height": 483
        },
        "id": "qucEr60UxOGq",
        "outputId": "54da6809-f9b7-4cf0-cab8-89f59053bf8f"
      },
      "outputs": [
        {
          "output_type": "display_data",
          "data": {
            "text/plain": [
              "<Figure size 576x576 with 2 Axes>"
            ],
            "image/png": "[encoded data removed]"
          },
          "metadata": {
            "needs_background": "light"
          }
        }
      ],
      "source": [
        "plot(history)"
      ]
    },
    {
      "cell_type": "code",
      "execution_count": 55,
      "metadata": {
        "colab": {
          "base_uri": "https://localhost:8080/"
        },
        "id": "EGDTR48KxOGq",
        "outputId": "e687a38b-f7f7-401b-ed78-cc61b46386ce",
        "scrolled": true
      },
      "outputs": [
        {
          "output_type": "stream",
          "name": "stdout",
          "text": [
            "              Model Name  Model Accuracy  Validation Accuracy  Model Loss  \\\n",
            "0         Conv3d_Model_1       67.164177            60.000002  844.355679   \n",
            "0     Conv3d_Model_2_SGD       67.164177            60.000002  844.355679   \n",
            "0     Conv3d_Model_3_cnn       68.805969            58.999997  484.895802   \n",
            "0  Conv3d_Model_4_filter       61.791044            44.000000  441.135550   \n",
            "0  Conv3d_Model_5_Tuning       39.850748            37.000000  445.098066   \n",
            "0        CNN+RNN_Model_6       92.686570            60.000002   23.862384   \n",
            "\n",
            "   Validation Loss  \n",
            "0       866.861343  \n",
            "0       866.861343  \n",
            "0       512.385941  \n",
            "0       482.717371  \n",
            "0       482.962847  \n",
            "0       119.377935  \n"
          ]
        }
      ],
      "source": [
        "df1 = model_result(\"CNN+RNN_Model_6\",history.history['categorical_accuracy'][-1], history.history['loss'][-1] , history.history['val_categorical_accuracy'][-1], history.history['val_loss'][-1])\n",
        "\n",
        "model_detail_df = pd.concat([model_detail_df,df1])\n",
        "print(model_detail_df.head(12))"
      ]
    },
    {
      "cell_type": "markdown",
      "metadata": {
        "id": "VJle5PlhxOGt"
      },
      "source": [
        "#**Model no:-7 CNN or LSTM** "
      ]
    },
    {
      "cell_type": "code",
      "execution_count": 56,
      "metadata": {
        "colab": {
          "base_uri": "https://localhost:8080/"
        },
        "id": "ZxccSI6mxOGt",
        "outputId": "266bbc9e-bd9e-4f5d-c3fc-bf2a4c88cd95"
      },
      "outputs": [
        {
          "output_type": "stream",
          "name": "stdout",
          "text": [
            "Model: \"sequential_6\"\n",
            "_________________________________________________________________\n",
            " Layer (type)                Output Shape              Param #   \n",
            "=================================================================\n",
            " time_distributed_13 (TimeDi  (None, 20, 64, 64, 16)   448       \n",
            " stributed)                                                      \n",
            "                                                                 \n",
            " time_distributed_14 (TimeDi  (None, 20, 64, 64, 16)   64        \n",
            " stributed)                                                      \n",
            "                                                                 \n",
            " time_distributed_15 (TimeDi  (None, 20, 32, 32, 16)   0         \n",
            " stributed)                                                      \n",
            "                                                                 \n",
            " time_distributed_16 (TimeDi  (None, 20, 32, 32, 32)   4640      \n",
            " stributed)                                                      \n",
            "                                                                 \n",
            " time_distributed_17 (TimeDi  (None, 20, 32, 32, 32)   128       \n",
            " stributed)                                                      \n",
            "                                                                 \n",
            " time_distributed_18 (TimeDi  (None, 20, 16, 16, 32)   0         \n",
            " stributed)                                                      \n",
            "                                                                 \n",
            " time_distributed_19 (TimeDi  (None, 20, 16, 16, 64)   18496     \n",
            " stributed)                                                      \n",
            "                                                                 \n",
            " time_distributed_20 (TimeDi  (None, 20, 16, 16, 64)   256       \n",
            " stributed)                                                      \n",
            "                                                                 \n",
            " time_distributed_21 (TimeDi  (None, 20, 8, 8, 64)     0         \n",
            " stributed)                                                      \n",
            "                                                                 \n",
            " time_distributed_22 (TimeDi  (None, 20, 8, 8, 128)    73856     \n",
            " stributed)                                                      \n",
            "                                                                 \n",
            " time_distributed_23 (TimeDi  (None, 20, 8, 8, 128)    512       \n",
            " stributed)                                                      \n",
            "                                                                 \n",
            " time_distributed_24 (TimeDi  (None, 20, 4, 4, 128)    0         \n",
            " stributed)                                                      \n",
            "                                                                 \n",
            " time_distributed_25 (TimeDi  (None, 20, 2048)         0         \n",
            " stributed)                                                      \n",
            "                                                                 \n",
            " lstm (LSTM)                 (None, 128)               1114624   \n",
            "                                                                 \n",
            " dense_13 (Dense)            (None, 128)               16512     \n",
            "                                                                 \n",
            " dropout_12 (Dropout)        (None, 128)               0         \n",
            "                                                                 \n",
            " dense_14 (Dense)            (None, 5)                 645       \n",
            "                                                                 \n",
            "=================================================================\n",
            "Total params: 1,230,181\n",
            "Trainable params: 1,229,701\n",
            "Non-trainable params: 480\n",
            "_________________________________________________________________\n",
            "None\n"
          ]
        }
      ],
      "source": [
        "#Here we are going to try CNN + LSTM\n",
        "\n",
        "#define model\n",
        "model_7 = Sequential()\n",
        "\n",
        "#First CNN Layer\n",
        "model_7.add(TimeDistributed(Conv2D(16, (3, 3) , padding='same', activation='relu'),input_shape = input_shape))\n",
        "model_7.add(TimeDistributed(BatchNormalization()))\n",
        "model_7.add(TimeDistributed(MaxPooling2D((2, 2))))\n",
        "\n",
        "#Second CNN Layer\n",
        "model_7.add(TimeDistributed(Conv2D(32, (3, 3) , padding='same', activation='relu')))\n",
        "model_7.add(TimeDistributed(BatchNormalization()))\n",
        "model_7.add(TimeDistributed(MaxPooling2D((2, 2))))\n",
        "\n",
        "#Third CNN Layer\n",
        "model_7.add(TimeDistributed(Conv2D(64, (3, 3) , padding='same', activation='relu')))\n",
        "model_7.add(TimeDistributed(BatchNormalization()))\n",
        "model_7.add(TimeDistributed(MaxPooling2D((2, 2))))\n",
        "\n",
        "#Fourth CNN Layer\n",
        "model_7.add(TimeDistributed(Conv2D(128, (3, 3) , padding='same', activation='relu')))\n",
        "model_7.add(TimeDistributed(BatchNormalization()))\n",
        "model_7.add(TimeDistributed(MaxPooling2D((2, 2))))\n",
        "\n",
        "#Flatten Layer\n",
        "model_7.add(TimeDistributed(Flatten()))\n",
        "\n",
        "#Apply LSTM\n",
        "model_7.add(LSTM(128))\n",
        "\n",
        "#Dense Layer\n",
        "model_7.add(Dense(128,activation='relu'))\n",
        "model_7.add(Dropout(0.3))\n",
        "\n",
        "#softmax Layer\n",
        "model_7.add(Dense(5, activation='softmax'))\n",
        "\n",
        "#adam optimiser\n",
        "optimiser = 'adam'\n",
        "model_7.compile(optimizer=optimiser, loss='categorical_crossentropy', metrics=['categorical_accuracy'])\n",
        "print (model_7.summary())"
      ]
    },
    {
      "cell_type": "markdown",
      "source": [
        "**Train our model:-7**"
      ],
      "metadata": {
        "id": "EghwJnJ_Il4O"
      }
    },
    {
      "cell_type": "code",
      "execution_count": 57,
      "metadata": {
        "colab": {
          "base_uri": "https://localhost:8080/"
        },
        "id": "aTI0Kba7xOGt",
        "outputId": "6fafb4c3-dd4d-4a77-ef2a-07627318d352"
      },
      "outputs": [
        {
          "output_type": "stream",
          "name": "stderr",
          "text": [
            "/usr/local/lib/python3.7/dist-packages/ipykernel_launcher.py:3: UserWarning: `Model.fit_generator` is deprecated and will be removed in a future version. Please use `Model.fit`, which supports generators.\n",
            "  This is separate from the ipykernel package so we can avoid doing imports until\n"
          ]
        },
        {
          "output_type": "stream",
          "name": "stdout",
          "text": [
            "Epoch 1/10\n",
            "67/67 [==============================] - ETA: 0s - loss: 1.5365 - categorical_accuracy: 0.3239\n",
            "Epoch 1: val_loss did not improve from 1.19378\n",
            "67/67 [==============================] - 60s 865ms/step - loss: 1.5365 - categorical_accuracy: 0.3239 - val_loss: 1.8532 - val_categorical_accuracy: 0.2100 - lr: 0.0010\n",
            "Epoch 2/10\n",
            "67/67 [==============================] - ETA: 0s - loss: 1.2944 - categorical_accuracy: 0.4836\n",
            "Epoch 2: val_loss did not improve from 1.19378\n",
            "67/67 [==============================] - 57s 864ms/step - loss: 1.2944 - categorical_accuracy: 0.4836 - val_loss: 2.0320 - val_categorical_accuracy: 0.2100 - lr: 0.0010\n",
            "Epoch 3/10\n",
            "67/67 [==============================] - ETA: 0s - loss: 1.2284 - categorical_accuracy: 0.5119\n",
            "Epoch 3: val_loss did not improve from 1.19378\n",
            "\n",
            "Epoch 3: ReduceLROnPlateau reducing learning rate to 0.00010000000474974513.\n",
            "67/67 [==============================] - 57s 864ms/step - loss: 1.2284 - categorical_accuracy: 0.5119 - val_loss: 2.6452 - val_categorical_accuracy: 0.2300 - lr: 0.0010\n",
            "Epoch 4/10\n",
            "67/67 [==============================] - ETA: 0s - loss: 1.0094 - categorical_accuracy: 0.6254\n",
            "Epoch 4: val_loss did not improve from 1.19378\n",
            "67/67 [==============================] - 58s 877ms/step - loss: 1.0094 - categorical_accuracy: 0.6254 - val_loss: 3.2043 - val_categorical_accuracy: 0.1900 - lr: 1.0000e-04\n",
            "Epoch 5/10\n",
            "67/67 [==============================] - ETA: 0s - loss: 0.8429 - categorical_accuracy: 0.7045\n",
            "Epoch 5: val_loss did not improve from 1.19378\n",
            "\n",
            "Epoch 5: ReduceLROnPlateau reducing learning rate to 1.0000000474974514e-05.\n",
            "67/67 [==============================] - 57s 861ms/step - loss: 0.8429 - categorical_accuracy: 0.7045 - val_loss: 2.6738 - val_categorical_accuracy: 0.2500 - lr: 1.0000e-04\n",
            "Epoch 6/10\n",
            "67/67 [==============================] - ETA: 0s - loss: 0.8298 - categorical_accuracy: 0.7209\n",
            "Epoch 6: val_loss did not improve from 1.19378\n",
            "67/67 [==============================] - 57s 864ms/step - loss: 0.8298 - categorical_accuracy: 0.7209 - val_loss: 1.9496 - val_categorical_accuracy: 0.2900 - lr: 1.0000e-05\n",
            "Epoch 7/10\n",
            "67/67 [==============================] - ETA: 0s - loss: 0.8034 - categorical_accuracy: 0.7254\n",
            "Epoch 7: val_loss did not improve from 1.19378\n",
            "67/67 [==============================] - 58s 879ms/step - loss: 0.8034 - categorical_accuracy: 0.7254 - val_loss: 1.6164 - val_categorical_accuracy: 0.3400 - lr: 1.0000e-05\n",
            "Epoch 8/10\n",
            "67/67 [==============================] - ETA: 0s - loss: 0.7678 - categorical_accuracy: 0.7507\n",
            "Epoch 8: val_loss did not improve from 1.19378\n",
            "67/67 [==============================] - 57s 865ms/step - loss: 0.7678 - categorical_accuracy: 0.7507 - val_loss: 1.3387 - val_categorical_accuracy: 0.4000 - lr: 1.0000e-05\n",
            "Epoch 9/10\n",
            "67/67 [==============================] - ETA: 0s - loss: 0.7777 - categorical_accuracy: 0.7239\n",
            "Epoch 9: val_loss improved from 1.19378 to 1.10309, saving model to model_init_2022-07-1314_21_51.950577/model-00009-0.77766-0.72388-1.10309-0.54000.h5\n",
            "67/67 [==============================] - 57s 869ms/step - loss: 0.7777 - categorical_accuracy: 0.7239 - val_loss: 1.1031 - val_categorical_accuracy: 0.5400 - lr: 1.0000e-05\n",
            "Epoch 10/10\n",
            "67/67 [==============================] - ETA: 0s - loss: 0.7866 - categorical_accuracy: 0.7299\n",
            "Epoch 10: val_loss improved from 1.10309 to 1.05264, saving model to model_init_2022-07-1314_21_51.950577/model-00010-0.78656-0.72985-1.05264-0.57000.h5\n",
            "67/67 [==============================] - 58s 875ms/step - loss: 0.7866 - categorical_accuracy: 0.7299 - val_loss: 1.0526 - val_categorical_accuracy: 0.5700 - lr: 1.0000e-05\n"
          ]
        }
      ],
      "source": [
        "history = model_7.fit_generator(train_generator, steps_per_epoch=steps_per_epoch, epochs=num_epochs, verbose=1, \n",
        "                    callbacks=callbacks_list, validation_data=val_generator, \n",
        "                    validation_steps=validation_steps, class_weight=None, workers=1, initial_epoch=0)"
      ]
    },
    {
      "cell_type": "code",
      "execution_count": 58,
      "metadata": {
        "colab": {
          "base_uri": "https://localhost:8080/",
          "height": 483
        },
        "id": "IhpQQEF2xOGu",
        "outputId": "96dce460-fc8a-44a9-928b-cd4427921a63"
      },
      "outputs": [
        {
          "output_type": "display_data",
          "data": {
            "text/plain": [
              "<Figure size 576x576 with 2 Axes>"
            ],
            "image/png": "[encoded data removed]"
          },
          "metadata": {
            "needs_background": "light"
          }
        }
      ],
      "source": [
        "plot(history)"
      ]
    },
    {
      "cell_type": "code",
      "execution_count": 59,
      "metadata": {
        "colab": {
          "base_uri": "https://localhost:8080/"
        },
        "id": "8Hk5j8OZxOGv",
        "outputId": "a614755e-3591-462c-8cd5-549c27201f59"
      },
      "outputs": [
        {
          "output_type": "stream",
          "name": "stdout",
          "text": [
            "               Model Name  Model Accuracy  Validation Accuracy  Model Loss  \\\n",
            "0          Conv3d_Model_1       67.164177            60.000002  844.355679   \n",
            "0      Conv3d_Model_2_SGD       67.164177            60.000002  844.355679   \n",
            "0      Conv3d_Model_3_cnn       68.805969            58.999997  484.895802   \n",
            "0   Conv3d_Model_4_filter       61.791044            44.000000  441.135550   \n",
            "0   Conv3d_Model_5_Tuning       39.850748            37.000000  445.098066   \n",
            "0         CNN+RNN_Model_6       92.686570            60.000002   23.862384   \n",
            "0  Model_no_7_CNN_or_LSTM       72.985077            56.999999   78.656095   \n",
            "\n",
            "   Validation Loss  \n",
            "0       866.861343  \n",
            "0       866.861343  \n",
            "0       512.385941  \n",
            "0       482.717371  \n",
            "0       482.962847  \n",
            "0       119.377935  \n",
            "0       105.263960  \n"
          ]
        }
      ],
      "source": [
        "df1 = model_result(\"Model_no_7_CNN_or_LSTM\",history.history['categorical_accuracy'][-1], history.history['loss'][-1] , history.history['val_categorical_accuracy'][-1], history.history['val_loss'][-1])\n",
        "\n",
        "model_detail_df = pd.concat([model_detail_df,df1])\n",
        "print(model_detail_df.head(12))"
      ]
    },
    {
      "cell_type": "markdown",
      "metadata": {
        "id": "fZf2ZjtzxOGx"
      },
      "source": [
        "#**Model no:-8 CNN or GRU** "
      ]
    },
    {
      "cell_type": "code",
      "execution_count": 60,
      "metadata": {
        "colab": {
          "base_uri": "https://localhost:8080/"
        },
        "id": "BMh1uu66xOGx",
        "outputId": "1c981305-3c87-4fb9-a5c4-f353d89194a1"
      },
      "outputs": [
        {
          "output_type": "stream",
          "name": "stdout",
          "text": [
            "Model: \"sequential_7\"\n",
            "_________________________________________________________________\n",
            " Layer (type)                Output Shape              Param #   \n",
            "=================================================================\n",
            " time_distributed_26 (TimeDi  (None, 20, 64, 64, 16)   448       \n",
            " stributed)                                                      \n",
            "                                                                 \n",
            " time_distributed_27 (TimeDi  (None, 20, 64, 64, 16)   64        \n",
            " stributed)                                                      \n",
            "                                                                 \n",
            " time_distributed_28 (TimeDi  (None, 20, 32, 32, 16)   0         \n",
            " stributed)                                                      \n",
            "                                                                 \n",
            " time_distributed_29 (TimeDi  (None, 20, 32, 32, 32)   4640      \n",
            " stributed)                                                      \n",
            "                                                                 \n",
            " time_distributed_30 (TimeDi  (None, 20, 32, 32, 32)   128       \n",
            " stributed)                                                      \n",
            "                                                                 \n",
            " time_distributed_31 (TimeDi  (None, 20, 16, 16, 32)   0         \n",
            " stributed)                                                      \n",
            "                                                                 \n",
            " time_distributed_32 (TimeDi  (None, 20, 16, 16, 64)   18496     \n",
            " stributed)                                                      \n",
            "                                                                 \n",
            " time_distributed_33 (TimeDi  (None, 20, 16, 16, 64)   256       \n",
            " stributed)                                                      \n",
            "                                                                 \n",
            " time_distributed_34 (TimeDi  (None, 20, 8, 8, 64)     0         \n",
            " stributed)                                                      \n",
            "                                                                 \n",
            " time_distributed_35 (TimeDi  (None, 20, 8, 8, 128)    73856     \n",
            " stributed)                                                      \n",
            "                                                                 \n",
            " time_distributed_36 (TimeDi  (None, 20, 8, 8, 128)    512       \n",
            " stributed)                                                      \n",
            "                                                                 \n",
            " time_distributed_37 (TimeDi  (None, 20, 4, 4, 128)    0         \n",
            " stributed)                                                      \n",
            "                                                                 \n",
            " time_distributed_38 (TimeDi  (None, 20, 2048)         0         \n",
            " stributed)                                                      \n",
            "                                                                 \n",
            " gru (GRU)                   (None, 256)               1771008   \n",
            "                                                                 \n",
            " dense_15 (Dense)            (None, 256)               65792     \n",
            "                                                                 \n",
            " dropout_13 (Dropout)        (None, 256)               0         \n",
            "                                                                 \n",
            " dense_16 (Dense)            (None, 5)                 1285      \n",
            "                                                                 \n",
            "=================================================================\n",
            "Total params: 1,936,485\n",
            "Trainable params: 1,936,005\n",
            "Non-trainable params: 480\n",
            "_________________________________________________________________\n",
            "None\n"
          ]
        }
      ],
      "source": [
        "#Here we are going to try CNN + GRU model\n",
        "\n",
        "#define model\n",
        "model_8 = Sequential()\n",
        "\n",
        "#First CNN Layer\n",
        "model_8.add(TimeDistributed(Conv2D(16, (3, 3) , padding='same', activation='relu'),input_shape = input_shape))\n",
        "model_8.add(TimeDistributed(BatchNormalization()))\n",
        "model_8.add(TimeDistributed(MaxPooling2D((2, 2))))\n",
        "\n",
        "#Second CNN Layer\n",
        "model_8.add(TimeDistributed(Conv2D(32, (3, 3) , padding='same', activation='relu')))\n",
        "model_8.add(TimeDistributed(BatchNormalization()))\n",
        "model_8.add(TimeDistributed(MaxPooling2D((2, 2))))\n",
        "\n",
        "#Third CNN Layer\n",
        "model_8.add(TimeDistributed(Conv2D(64, (3, 3) , padding='same', activation='relu')))\n",
        "model_8.add(TimeDistributed(BatchNormalization()))\n",
        "model_8.add(TimeDistributed(MaxPooling2D((2, 2))))\n",
        "\n",
        "#Fourth CNN Layer\n",
        "model_8.add(TimeDistributed(Conv2D(128, (3, 3) , padding='same', activation='relu')))\n",
        "model_8.add(TimeDistributed(BatchNormalization()))\n",
        "model_8.add(TimeDistributed(MaxPooling2D((2, 2))))\n",
        "\n",
        "#Flatten Layer\n",
        "model_8.add(TimeDistributed(Flatten()))\n",
        "\n",
        "#Apply GRU\n",
        "model_8.add(GRU(256))\n",
        "\n",
        "#Dense Layer\n",
        "model_8.add(Dense(256,activation='relu'))\n",
        "model_8.add(Dropout(0.4))\n",
        "\n",
        "#softmax Layer\n",
        "model_8.add(Dense(5, activation='softmax'))\n",
        "\n",
        "#adam optimiser\n",
        "optimiser = 'adam'\n",
        "model_8.compile(optimizer=optimiser, loss='categorical_crossentropy', metrics=['categorical_accuracy'])\n",
        "print (model_8.summary())\n"
      ]
    },
    {
      "cell_type": "markdown",
      "source": [
        "**Train our model:-8**"
      ],
      "metadata": {
        "id": "f6F_x13dIuLr"
      }
    },
    {
      "cell_type": "code",
      "execution_count": 61,
      "metadata": {
        "colab": {
          "base_uri": "https://localhost:8080/"
        },
        "id": "Wb8LQMUpxOGy",
        "outputId": "b88ace56-6ea7-442d-c244-da41eec56edf"
      },
      "outputs": [
        {
          "output_type": "stream",
          "name": "stderr",
          "text": [
            "/usr/local/lib/python3.7/dist-packages/ipykernel_launcher.py:3: UserWarning: `Model.fit_generator` is deprecated and will be removed in a future version. Please use `Model.fit`, which supports generators.\n",
            "  This is separate from the ipykernel package so we can avoid doing imports until\n"
          ]
        },
        {
          "output_type": "stream",
          "name": "stdout",
          "text": [
            "Epoch 1/10\n",
            "67/67 [==============================] - ETA: 0s - loss: 1.6203 - categorical_accuracy: 0.3478\n",
            "Epoch 1: val_loss did not improve from 1.05264\n",
            "67/67 [==============================] - 61s 891ms/step - loss: 1.6203 - categorical_accuracy: 0.3478 - val_loss: 2.1885 - val_categorical_accuracy: 0.2100 - lr: 0.0010\n",
            "Epoch 2/10\n",
            "67/67 [==============================] - ETA: 0s - loss: 1.2778 - categorical_accuracy: 0.4761\n",
            "Epoch 2: val_loss did not improve from 1.05264\n",
            "67/67 [==============================] - 58s 872ms/step - loss: 1.2778 - categorical_accuracy: 0.4761 - val_loss: 2.1762 - val_categorical_accuracy: 0.2200 - lr: 0.0010\n",
            "Epoch 3/10\n",
            "67/67 [==============================] - ETA: 0s - loss: 1.1828 - categorical_accuracy: 0.5478\n",
            "Epoch 3: val_loss did not improve from 1.05264\n",
            "67/67 [==============================] - 57s 868ms/step - loss: 1.1828 - categorical_accuracy: 0.5478 - val_loss: 2.6436 - val_categorical_accuracy: 0.2200 - lr: 0.0010\n",
            "Epoch 4/10\n",
            "67/67 [==============================] - ETA: 0s - loss: 0.8959 - categorical_accuracy: 0.6328\n",
            "Epoch 4: val_loss did not improve from 1.05264\n",
            "\n",
            "Epoch 4: ReduceLROnPlateau reducing learning rate to 0.00010000000474974513.\n",
            "67/67 [==============================] - 58s 876ms/step - loss: 0.8959 - categorical_accuracy: 0.6328 - val_loss: 3.0415 - val_categorical_accuracy: 0.2500 - lr: 0.0010\n",
            "Epoch 5/10\n",
            "67/67 [==============================] - ETA: 0s - loss: 0.7030 - categorical_accuracy: 0.7507\n",
            "Epoch 5: val_loss did not improve from 1.05264\n",
            "67/67 [==============================] - 58s 876ms/step - loss: 0.7030 - categorical_accuracy: 0.7507 - val_loss: 2.4929 - val_categorical_accuracy: 0.3600 - lr: 1.0000e-04\n",
            "Epoch 6/10\n",
            "67/67 [==============================] - ETA: 0s - loss: 0.5315 - categorical_accuracy: 0.8104\n",
            "Epoch 6: val_loss did not improve from 1.05264\n",
            "\n",
            "Epoch 6: ReduceLROnPlateau reducing learning rate to 1.0000000474974514e-05.\n",
            "67/67 [==============================] - 57s 864ms/step - loss: 0.5315 - categorical_accuracy: 0.8104 - val_loss: 2.2242 - val_categorical_accuracy: 0.2800 - lr: 1.0000e-04\n",
            "Epoch 7/10\n",
            "67/67 [==============================] - ETA: 0s - loss: 0.5330 - categorical_accuracy: 0.8194\n",
            "Epoch 7: val_loss did not improve from 1.05264\n",
            "67/67 [==============================] - 57s 869ms/step - loss: 0.5330 - categorical_accuracy: 0.8194 - val_loss: 1.6520 - val_categorical_accuracy: 0.4000 - lr: 1.0000e-05\n",
            "Epoch 8/10\n",
            "67/67 [==============================] - ETA: 0s - loss: 0.4472 - categorical_accuracy: 0.8701\n",
            "Epoch 8: val_loss did not improve from 1.05264\n",
            "67/67 [==============================] - 58s 872ms/step - loss: 0.4472 - categorical_accuracy: 0.8701 - val_loss: 1.2484 - val_categorical_accuracy: 0.5300 - lr: 1.0000e-05\n",
            "Epoch 9/10\n",
            "67/67 [==============================] - ETA: 0s - loss: 0.4909 - categorical_accuracy: 0.8313\n",
            "Epoch 9: val_loss did not improve from 1.05264\n",
            "67/67 [==============================] - 59s 888ms/step - loss: 0.4909 - categorical_accuracy: 0.8313 - val_loss: 1.0764 - val_categorical_accuracy: 0.5400 - lr: 1.0000e-05\n",
            "Epoch 10/10\n",
            "67/67 [==============================] - ETA: 0s - loss: 0.4911 - categorical_accuracy: 0.8403\n",
            "Epoch 10: val_loss improved from 1.05264 to 0.88563, saving model to model_init_2022-07-1314_21_51.950577/model-00010-0.49113-0.84030-0.88563-0.62000.h5\n",
            "67/67 [==============================] - 57s 867ms/step - loss: 0.4911 - categorical_accuracy: 0.8403 - val_loss: 0.8856 - val_categorical_accuracy: 0.6200 - lr: 1.0000e-05\n"
          ]
        }
      ],
      "source": [
        "history = model_8.fit_generator(train_generator, steps_per_epoch=steps_per_epoch, epochs=num_epochs, verbose=1, \n",
        "                    callbacks=callbacks_list, validation_data=val_generator, \n",
        "                    validation_steps=validation_steps, class_weight=None, workers=1, initial_epoch=0)"
      ]
    },
    {
      "cell_type": "code",
      "execution_count": 62,
      "metadata": {
        "colab": {
          "base_uri": "https://localhost:8080/",
          "height": 485
        },
        "id": "d2qGnIjaxOGy",
        "outputId": "46f9bb27-7649-48bc-f2f2-932e1783c360"
      },
      "outputs": [
        {
          "output_type": "display_data",
          "data": {
            "text/plain": [
              "<Figure size 576x576 with 2 Axes>"
            ],
            "image/png": "[encoded data removed]"
          },
          "metadata": {
            "needs_background": "light"
          }
        }
      ],
      "source": [
        "plot(history)"
      ]
    },
    {
      "cell_type": "code",
      "execution_count": 63,
      "metadata": {
        "colab": {
          "base_uri": "https://localhost:8080/"
        },
        "id": "UUInWZpbxOGy",
        "outputId": "98b7fb46-b3d7-4237-ed49-988130e99163"
      },
      "outputs": [
        {
          "output_type": "stream",
          "name": "stdout",
          "text": [
            "               Model Name  Model Accuracy  Validation Accuracy  Model Loss  \\\n",
            "0          Conv3d_Model_1       67.164177            60.000002  844.355679   \n",
            "0      Conv3d_Model_2_SGD       67.164177            60.000002  844.355679   \n",
            "0      Conv3d_Model_3_cnn       68.805969            58.999997  484.895802   \n",
            "0   Conv3d_Model_4_filter       61.791044            44.000000  441.135550   \n",
            "0   Conv3d_Model_5_Tuning       39.850748            37.000000  445.098066   \n",
            "0         CNN+RNN_Model_6       92.686570            60.000002   23.862384   \n",
            "0  Model_no_7_CNN_or_LSTM       72.985077            56.999999   78.656095   \n",
            "0   Model_no_8_CNN_or_GRU       84.029853            62.000000   49.113473   \n",
            "\n",
            "   Validation Loss  \n",
            "0       866.861343  \n",
            "0       866.861343  \n",
            "0       512.385941  \n",
            "0       482.717371  \n",
            "0       482.962847  \n",
            "0       119.377935  \n",
            "0       105.263960  \n",
            "0        88.562834  \n"
          ]
        }
      ],
      "source": [
        "df1 = model_result(\"Model_no_8_CNN_or_GRU\", history.history['categorical_accuracy'][-1], history.history['loss'][-1] , history.history['val_categorical_accuracy'][-1], history.history['val_loss'][-1])\n",
        "\n",
        "model_detail_df = pd.concat([model_detail_df,df1])\n",
        "print(model_detail_df.head(12))"
      ]
    },
    {
      "cell_type": "markdown",
      "source": [
        "**Here we can say that our model is avarage but in all model Model_no_8_CNN_or_GRU is little bit good as compare to other model**"
      ],
      "metadata": {
        "id": "Hd-fEnmTeKWO"
      }
    },
    {
      "cell_type": "code",
      "source": [
        "from google.colab import files\n",
        "files.download('/content/model')"
      ],
      "metadata": {
        "colab": {
          "base_uri": "https://localhost:8080/",
          "height": 34
        },
        "id": "yyf7k4Ldgp6W",
        "outputId": "a6c385e5-21bc-4b20-f1f7-da51a266db28"
      },
      "execution_count": 65,
      "outputs": [
        {
          "output_type": "display_data",
          "data": {
            "text/plain": [
              "<IPython.core.display.Javascript object>"
            ],
            "application/javascript": [
              "\n",
              "    async function download(id, filename, size) {\n",
              "      if (!google.colab.kernel.accessAllowed) {\n",
              "        return;\n",
              "      }\n",
              "      const div = document.createElement('div');\n",
              "      const label = document.createElement('label');\n",
              "      label.textContent = `Downloading \"${filename}\": `;\n",
              "      div.appendChild(label);\n",
              "      const progress = document.createElement('progress');\n",
              "      progress.max = size;\n",
              "      div.appendChild(progress);\n",
              "      document.body.appendChild(div);\n",
              "\n",
              "      const buffers = [];\n",
              "      let downloaded = 0;\n",
              "\n",
              "      const channel = await google.colab.kernel.comms.open(id);\n",
              "      // Send a message to notify the kernel that we're ready.\n",
              "      channel.send({})\n",
              "\n",
              "      for await (const message of channel.messages) {\n",
              "        // Send a message to notify the kernel that we're ready.\n",
              "        channel.send({})\n",
              "        if (message.buffers) {\n",
              "          for (const buffer of message.buffers) {\n",
              "            buffers.push(buffer);\n",
              "            downloaded += buffer.byteLength;\n",
              "            progress.value = downloaded;\n",
              "          }\n",
              "        }\n",
              "      }\n",
              "      const blob = new Blob(buffers, {type: 'application/binary'});\n",
              "      const a = document.createElement('a');\n",
              "      a.href = window.URL.createObjectURL(blob);\n",
              "      a.download = filename;\n",
              "      div.appendChild(a);\n",
              "      a.click();\n",
              "      div.remove();\n",
              "    }\n",
              "  "
            ]
          },
          "metadata": {}
        },
        {
          "output_type": "display_data",
          "data": {
            "text/plain": [
              "<IPython.core.display.Javascript object>"
            ],
            "application/javascript": [
              "download(\"download_d38fa163-83cf-4509-9cd4-081d3c0cb326\", \"model\", 4096)"
            ]
          },
          "metadata": {}
        }
      ]
    }
  ],
  "metadata": {
    "accelerator": "GPU",
    "colab": {
      "collapsed_sections": [
        "HPZeFnfDxOGX",
        "wONfTZ83xOGZ",
        "D3_yqhZlxOGj",
        "7WxwcGbGxOGo"
      ],
      "name": "Gesture-Recognition(Dhruvil Sheth.ipynb",
      "provenance": []
    },
    "kernelspec": {
      "display_name": "Python 3",
      "language": "python",
      "name": "python3"
    },
    "language_info": {
      "codemirror_mode": {
        "name": "ipython",
        "version": 3
      },
      "file_extension": ".py",
      "mimetype": "text/x-python",
      "name": "python",
      "nbconvert_exporter": "python",
      "pygments_lexer": "ipython3",
      "version": "3.8.5"
    }
  },
  "nbformat": 4,
  "nbformat_minor": 0
}